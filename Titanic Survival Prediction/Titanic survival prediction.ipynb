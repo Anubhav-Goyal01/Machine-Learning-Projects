{
 "cells": [
  {
   "cell_type": "markdown",
   "id": "7a21bca6",
   "metadata": {
    "papermill": {
     "duration": 0.016018,
     "end_time": "2022-09-03T05:08:14.087154",
     "exception": false,
     "start_time": "2022-09-03T05:08:14.071136",
     "status": "completed"
    },
    "tags": []
   },
   "source": [
    "## **Notebook Imports**"
   ]
  },
  {
   "cell_type": "code",
   "execution_count": 1,
   "id": "909b377c",
   "metadata": {
    "execution": {
     "iopub.execute_input": "2022-09-03T05:08:14.117930Z",
     "iopub.status.busy": "2022-09-03T05:08:14.117287Z",
     "iopub.status.idle": "2022-09-03T05:08:22.783270Z",
     "shell.execute_reply": "2022-09-03T05:08:22.782093Z"
    },
    "papermill": {
     "duration": 8.685022,
     "end_time": "2022-09-03T05:08:22.786495",
     "exception": false,
     "start_time": "2022-09-03T05:08:14.101473",
     "status": "completed"
    },
    "tags": []
   },
   "outputs": [
    {
     "data": {
      "text/html": [
       "<style type='text/css'>\n",
       ".datatable table.frame { margin-bottom: 0; }\n",
       ".datatable table.frame thead { border-bottom: none; }\n",
       ".datatable table.frame tr.coltypes td {  color: #FFFFFF;  line-height: 6px;  padding: 0 0.5em;}\n",
       ".datatable .bool    { background: #DDDD99; }\n",
       ".datatable .object  { background: #565656; }\n",
       ".datatable .int     { background: #5D9E5D; }\n",
       ".datatable .float   { background: #4040CC; }\n",
       ".datatable .str     { background: #CC4040; }\n",
       ".datatable .time    { background: #40CC40; }\n",
       ".datatable .row_index {  background: var(--jp-border-color3);  border-right: 1px solid var(--jp-border-color0);  color: var(--jp-ui-font-color3);  font-size: 9px;}\n",
       ".datatable .frame tbody td { text-align: left; }\n",
       ".datatable .frame tr.coltypes .row_index {  background: var(--jp-border-color0);}\n",
       ".datatable th:nth-child(2) { padding-left: 12px; }\n",
       ".datatable .hellipsis {  color: var(--jp-cell-editor-border-color);}\n",
       ".datatable .vellipsis {  background: var(--jp-layout-color0);  color: var(--jp-cell-editor-border-color);}\n",
       ".datatable .na {  color: var(--jp-cell-editor-border-color);  font-size: 80%;}\n",
       ".datatable .sp {  opacity: 0.25;}\n",
       ".datatable .footer { font-size: 9px; }\n",
       ".datatable .frame_dimensions {  background: var(--jp-border-color3);  border-top: 1px solid var(--jp-border-color0);  color: var(--jp-ui-font-color3);  display: inline-block;  opacity: 0.6;  padding: 1px 10px 1px 5px;}\n",
       "</style>\n"
      ],
      "text/plain": [
       "<IPython.core.display.HTML object>"
      ]
     },
     "metadata": {},
     "output_type": "display_data"
    }
   ],
   "source": [
    "import pandas as pd\n",
    "import numpy as np\n",
    "import matplotlib.pyplot as plt\n",
    "import seaborn as sns\n",
    "sns.set()\n",
    "\n",
    "from sklearn.preprocessing import StandardScaler\n",
    "from sklearn.model_selection import KFold, cross_val_score\n",
    "from sklearn.linear_model import LogisticRegression\n",
    "from sklearn.ensemble import RandomForestClassifier, GradientBoostingClassifier\n",
    "from sklearn.neighbors import KNeighborsRegressor\n",
    "from sklearn.naive_bayes import GaussianNB\n",
    "from lightgbm import LGBMClassifier\n",
    "from xgboost import XGBClassifier\n",
    "from catboost import CatBoostClassifier\n",
    "\n",
    "import tensorflow as tf\n",
    "\n",
    "import optuna"
   ]
  },
  {
   "cell_type": "markdown",
   "id": "50f417ce",
   "metadata": {
    "papermill": {
     "duration": 0.014403,
     "end_time": "2022-09-03T05:08:22.817470",
     "exception": false,
     "start_time": "2022-09-03T05:08:22.803067",
     "status": "completed"
    },
    "tags": []
   },
   "source": [
    "## **Importing Data**"
   ]
  },
  {
   "cell_type": "code",
   "execution_count": 2,
   "id": "7e6c5d14",
   "metadata": {
    "execution": {
     "iopub.execute_input": "2022-09-03T05:08:22.849585Z",
     "iopub.status.busy": "2022-09-03T05:08:22.848181Z",
     "iopub.status.idle": "2022-09-03T05:08:22.894508Z",
     "shell.execute_reply": "2022-09-03T05:08:22.893196Z"
    },
    "papermill": {
     "duration": 0.064764,
     "end_time": "2022-09-03T05:08:22.896960",
     "exception": false,
     "start_time": "2022-09-03T05:08:22.832196",
     "status": "completed"
    },
    "tags": []
   },
   "outputs": [
    {
     "data": {
      "text/html": [
       "<div>\n",
       "<style scoped>\n",
       "    .dataframe tbody tr th:only-of-type {\n",
       "        vertical-align: middle;\n",
       "    }\n",
       "\n",
       "    .dataframe tbody tr th {\n",
       "        vertical-align: top;\n",
       "    }\n",
       "\n",
       "    .dataframe thead th {\n",
       "        text-align: right;\n",
       "    }\n",
       "</style>\n",
       "<table border=\"1\" class=\"dataframe\">\n",
       "  <thead>\n",
       "    <tr style=\"text-align: right;\">\n",
       "      <th></th>\n",
       "      <th>PassengerId</th>\n",
       "      <th>Survived</th>\n",
       "      <th>Pclass</th>\n",
       "      <th>Name</th>\n",
       "      <th>Sex</th>\n",
       "      <th>Age</th>\n",
       "      <th>SibSp</th>\n",
       "      <th>Parch</th>\n",
       "      <th>Ticket</th>\n",
       "      <th>Fare</th>\n",
       "      <th>Cabin</th>\n",
       "      <th>Embarked</th>\n",
       "    </tr>\n",
       "  </thead>\n",
       "  <tbody>\n",
       "    <tr>\n",
       "      <th>0</th>\n",
       "      <td>1</td>\n",
       "      <td>0</td>\n",
       "      <td>3</td>\n",
       "      <td>Braund, Mr. Owen Harris</td>\n",
       "      <td>male</td>\n",
       "      <td>22.0</td>\n",
       "      <td>1</td>\n",
       "      <td>0</td>\n",
       "      <td>A/5 21171</td>\n",
       "      <td>7.2500</td>\n",
       "      <td>NaN</td>\n",
       "      <td>S</td>\n",
       "    </tr>\n",
       "    <tr>\n",
       "      <th>1</th>\n",
       "      <td>2</td>\n",
       "      <td>1</td>\n",
       "      <td>1</td>\n",
       "      <td>Cumings, Mrs. John Bradley (Florence Briggs Th...</td>\n",
       "      <td>female</td>\n",
       "      <td>38.0</td>\n",
       "      <td>1</td>\n",
       "      <td>0</td>\n",
       "      <td>PC 17599</td>\n",
       "      <td>71.2833</td>\n",
       "      <td>C85</td>\n",
       "      <td>C</td>\n",
       "    </tr>\n",
       "    <tr>\n",
       "      <th>2</th>\n",
       "      <td>3</td>\n",
       "      <td>1</td>\n",
       "      <td>3</td>\n",
       "      <td>Heikkinen, Miss. Laina</td>\n",
       "      <td>female</td>\n",
       "      <td>26.0</td>\n",
       "      <td>0</td>\n",
       "      <td>0</td>\n",
       "      <td>STON/O2. 3101282</td>\n",
       "      <td>7.9250</td>\n",
       "      <td>NaN</td>\n",
       "      <td>S</td>\n",
       "    </tr>\n",
       "    <tr>\n",
       "      <th>3</th>\n",
       "      <td>4</td>\n",
       "      <td>1</td>\n",
       "      <td>1</td>\n",
       "      <td>Futrelle, Mrs. Jacques Heath (Lily May Peel)</td>\n",
       "      <td>female</td>\n",
       "      <td>35.0</td>\n",
       "      <td>1</td>\n",
       "      <td>0</td>\n",
       "      <td>113803</td>\n",
       "      <td>53.1000</td>\n",
       "      <td>C123</td>\n",
       "      <td>S</td>\n",
       "    </tr>\n",
       "    <tr>\n",
       "      <th>4</th>\n",
       "      <td>5</td>\n",
       "      <td>0</td>\n",
       "      <td>3</td>\n",
       "      <td>Allen, Mr. William Henry</td>\n",
       "      <td>male</td>\n",
       "      <td>35.0</td>\n",
       "      <td>0</td>\n",
       "      <td>0</td>\n",
       "      <td>373450</td>\n",
       "      <td>8.0500</td>\n",
       "      <td>NaN</td>\n",
       "      <td>S</td>\n",
       "    </tr>\n",
       "  </tbody>\n",
       "</table>\n",
       "</div>"
      ],
      "text/plain": [
       "   PassengerId  Survived  Pclass  \\\n",
       "0            1         0       3   \n",
       "1            2         1       1   \n",
       "2            3         1       3   \n",
       "3            4         1       1   \n",
       "4            5         0       3   \n",
       "\n",
       "                                                Name     Sex   Age  SibSp  \\\n",
       "0                            Braund, Mr. Owen Harris    male  22.0      1   \n",
       "1  Cumings, Mrs. John Bradley (Florence Briggs Th...  female  38.0      1   \n",
       "2                             Heikkinen, Miss. Laina  female  26.0      0   \n",
       "3       Futrelle, Mrs. Jacques Heath (Lily May Peel)  female  35.0      1   \n",
       "4                           Allen, Mr. William Henry    male  35.0      0   \n",
       "\n",
       "   Parch            Ticket     Fare Cabin Embarked  \n",
       "0      0         A/5 21171   7.2500   NaN        S  \n",
       "1      0          PC 17599  71.2833   C85        C  \n",
       "2      0  STON/O2. 3101282   7.9250   NaN        S  \n",
       "3      0            113803  53.1000  C123        S  \n",
       "4      0            373450   8.0500   NaN        S  "
      ]
     },
     "execution_count": 2,
     "metadata": {},
     "output_type": "execute_result"
    }
   ],
   "source": [
    "train = pd.read_csv('train.csv')\n",
    "test = pd.read_csv('test.csv')\n",
    "train.head()"
   ]
  },
  {
   "cell_type": "code",
   "execution_count": 3,
   "id": "8fafadad",
   "metadata": {
    "execution": {
     "iopub.execute_input": "2022-09-03T05:08:22.929317Z",
     "iopub.status.busy": "2022-09-03T05:08:22.928636Z",
     "iopub.status.idle": "2022-09-03T05:08:22.945009Z",
     "shell.execute_reply": "2022-09-03T05:08:22.943723Z"
    },
    "papermill": {
     "duration": 0.035344,
     "end_time": "2022-09-03T05:08:22.947333",
     "exception": false,
     "start_time": "2022-09-03T05:08:22.911989",
     "status": "completed"
    },
    "tags": []
   },
   "outputs": [
    {
     "data": {
      "text/html": [
       "<div>\n",
       "<style scoped>\n",
       "    .dataframe tbody tr th:only-of-type {\n",
       "        vertical-align: middle;\n",
       "    }\n",
       "\n",
       "    .dataframe tbody tr th {\n",
       "        vertical-align: top;\n",
       "    }\n",
       "\n",
       "    .dataframe thead th {\n",
       "        text-align: right;\n",
       "    }\n",
       "</style>\n",
       "<table border=\"1\" class=\"dataframe\">\n",
       "  <thead>\n",
       "    <tr style=\"text-align: right;\">\n",
       "      <th></th>\n",
       "      <th>PassengerId</th>\n",
       "      <th>Pclass</th>\n",
       "      <th>Name</th>\n",
       "      <th>Sex</th>\n",
       "      <th>Age</th>\n",
       "      <th>SibSp</th>\n",
       "      <th>Parch</th>\n",
       "      <th>Ticket</th>\n",
       "      <th>Fare</th>\n",
       "      <th>Cabin</th>\n",
       "      <th>Embarked</th>\n",
       "    </tr>\n",
       "  </thead>\n",
       "  <tbody>\n",
       "    <tr>\n",
       "      <th>0</th>\n",
       "      <td>892</td>\n",
       "      <td>3</td>\n",
       "      <td>Kelly, Mr. James</td>\n",
       "      <td>male</td>\n",
       "      <td>34.5</td>\n",
       "      <td>0</td>\n",
       "      <td>0</td>\n",
       "      <td>330911</td>\n",
       "      <td>7.8292</td>\n",
       "      <td>NaN</td>\n",
       "      <td>Q</td>\n",
       "    </tr>\n",
       "    <tr>\n",
       "      <th>1</th>\n",
       "      <td>893</td>\n",
       "      <td>3</td>\n",
       "      <td>Wilkes, Mrs. James (Ellen Needs)</td>\n",
       "      <td>female</td>\n",
       "      <td>47.0</td>\n",
       "      <td>1</td>\n",
       "      <td>0</td>\n",
       "      <td>363272</td>\n",
       "      <td>7.0000</td>\n",
       "      <td>NaN</td>\n",
       "      <td>S</td>\n",
       "    </tr>\n",
       "    <tr>\n",
       "      <th>2</th>\n",
       "      <td>894</td>\n",
       "      <td>2</td>\n",
       "      <td>Myles, Mr. Thomas Francis</td>\n",
       "      <td>male</td>\n",
       "      <td>62.0</td>\n",
       "      <td>0</td>\n",
       "      <td>0</td>\n",
       "      <td>240276</td>\n",
       "      <td>9.6875</td>\n",
       "      <td>NaN</td>\n",
       "      <td>Q</td>\n",
       "    </tr>\n",
       "    <tr>\n",
       "      <th>3</th>\n",
       "      <td>895</td>\n",
       "      <td>3</td>\n",
       "      <td>Wirz, Mr. Albert</td>\n",
       "      <td>male</td>\n",
       "      <td>27.0</td>\n",
       "      <td>0</td>\n",
       "      <td>0</td>\n",
       "      <td>315154</td>\n",
       "      <td>8.6625</td>\n",
       "      <td>NaN</td>\n",
       "      <td>S</td>\n",
       "    </tr>\n",
       "    <tr>\n",
       "      <th>4</th>\n",
       "      <td>896</td>\n",
       "      <td>3</td>\n",
       "      <td>Hirvonen, Mrs. Alexander (Helga E Lindqvist)</td>\n",
       "      <td>female</td>\n",
       "      <td>22.0</td>\n",
       "      <td>1</td>\n",
       "      <td>1</td>\n",
       "      <td>3101298</td>\n",
       "      <td>12.2875</td>\n",
       "      <td>NaN</td>\n",
       "      <td>S</td>\n",
       "    </tr>\n",
       "  </tbody>\n",
       "</table>\n",
       "</div>"
      ],
      "text/plain": [
       "   PassengerId  Pclass                                          Name     Sex  \\\n",
       "0          892       3                              Kelly, Mr. James    male   \n",
       "1          893       3              Wilkes, Mrs. James (Ellen Needs)  female   \n",
       "2          894       2                     Myles, Mr. Thomas Francis    male   \n",
       "3          895       3                              Wirz, Mr. Albert    male   \n",
       "4          896       3  Hirvonen, Mrs. Alexander (Helga E Lindqvist)  female   \n",
       "\n",
       "    Age  SibSp  Parch   Ticket     Fare Cabin Embarked  \n",
       "0  34.5      0      0   330911   7.8292   NaN        Q  \n",
       "1  47.0      1      0   363272   7.0000   NaN        S  \n",
       "2  62.0      0      0   240276   9.6875   NaN        Q  \n",
       "3  27.0      0      0   315154   8.6625   NaN        S  \n",
       "4  22.0      1      1  3101298  12.2875   NaN        S  "
      ]
     },
     "execution_count": 3,
     "metadata": {},
     "output_type": "execute_result"
    }
   ],
   "source": [
    "test.head()"
   ]
  },
  {
   "cell_type": "code",
   "execution_count": 4,
   "id": "e98b86d3",
   "metadata": {
    "execution": {
     "iopub.execute_input": "2022-09-03T05:08:22.980298Z",
     "iopub.status.busy": "2022-09-03T05:08:22.979594Z",
     "iopub.status.idle": "2022-09-03T05:08:22.988348Z",
     "shell.execute_reply": "2022-09-03T05:08:22.987437Z"
    },
    "papermill": {
     "duration": 0.028213,
     "end_time": "2022-09-03T05:08:22.990828",
     "exception": false,
     "start_time": "2022-09-03T05:08:22.962615",
     "status": "completed"
    },
    "tags": []
   },
   "outputs": [],
   "source": [
    "target = train['Survived'].astype(int)\n",
    "test_ids = test['PassengerId']"
   ]
  },
  {
   "cell_type": "code",
   "execution_count": 5,
   "id": "8f9285b9",
   "metadata": {
    "execution": {
     "iopub.execute_input": "2022-09-03T05:08:23.023294Z",
     "iopub.status.busy": "2022-09-03T05:08:23.022618Z",
     "iopub.status.idle": "2022-09-03T05:08:23.033627Z",
     "shell.execute_reply": "2022-09-03T05:08:23.032825Z"
    },
    "papermill": {
     "duration": 0.029972,
     "end_time": "2022-09-03T05:08:23.036060",
     "exception": false,
     "start_time": "2022-09-03T05:08:23.006088",
     "status": "completed"
    },
    "tags": []
   },
   "outputs": [],
   "source": [
    "train1 = train.drop(['PassengerId', 'Survived'], axis= 1)\n",
    "test1 = test.drop('PassengerId', axis=1)"
   ]
  },
  {
   "cell_type": "code",
   "execution_count": 6,
   "id": "eba94d6b",
   "metadata": {
    "execution": {
     "iopub.execute_input": "2022-09-03T05:08:23.068565Z",
     "iopub.status.busy": "2022-09-03T05:08:23.067380Z",
     "iopub.status.idle": "2022-09-03T05:08:23.087184Z",
     "shell.execute_reply": "2022-09-03T05:08:23.086291Z"
    },
    "papermill": {
     "duration": 0.038169,
     "end_time": "2022-09-03T05:08:23.089331",
     "exception": false,
     "start_time": "2022-09-03T05:08:23.051162",
     "status": "completed"
    },
    "tags": []
   },
   "outputs": [
    {
     "data": {
      "text/html": [
       "<div>\n",
       "<style scoped>\n",
       "    .dataframe tbody tr th:only-of-type {\n",
       "        vertical-align: middle;\n",
       "    }\n",
       "\n",
       "    .dataframe tbody tr th {\n",
       "        vertical-align: top;\n",
       "    }\n",
       "\n",
       "    .dataframe thead th {\n",
       "        text-align: right;\n",
       "    }\n",
       "</style>\n",
       "<table border=\"1\" class=\"dataframe\">\n",
       "  <thead>\n",
       "    <tr style=\"text-align: right;\">\n",
       "      <th></th>\n",
       "      <th>Pclass</th>\n",
       "      <th>Name</th>\n",
       "      <th>Sex</th>\n",
       "      <th>Age</th>\n",
       "      <th>SibSp</th>\n",
       "      <th>Parch</th>\n",
       "      <th>Ticket</th>\n",
       "      <th>Fare</th>\n",
       "      <th>Cabin</th>\n",
       "      <th>Embarked</th>\n",
       "    </tr>\n",
       "  </thead>\n",
       "  <tbody>\n",
       "    <tr>\n",
       "      <th>0</th>\n",
       "      <td>3</td>\n",
       "      <td>Braund, Mr. Owen Harris</td>\n",
       "      <td>male</td>\n",
       "      <td>22.0</td>\n",
       "      <td>1</td>\n",
       "      <td>0</td>\n",
       "      <td>A/5 21171</td>\n",
       "      <td>7.2500</td>\n",
       "      <td>NaN</td>\n",
       "      <td>S</td>\n",
       "    </tr>\n",
       "    <tr>\n",
       "      <th>1</th>\n",
       "      <td>1</td>\n",
       "      <td>Cumings, Mrs. John Bradley (Florence Briggs Th...</td>\n",
       "      <td>female</td>\n",
       "      <td>38.0</td>\n",
       "      <td>1</td>\n",
       "      <td>0</td>\n",
       "      <td>PC 17599</td>\n",
       "      <td>71.2833</td>\n",
       "      <td>C85</td>\n",
       "      <td>C</td>\n",
       "    </tr>\n",
       "    <tr>\n",
       "      <th>2</th>\n",
       "      <td>3</td>\n",
       "      <td>Heikkinen, Miss. Laina</td>\n",
       "      <td>female</td>\n",
       "      <td>26.0</td>\n",
       "      <td>0</td>\n",
       "      <td>0</td>\n",
       "      <td>STON/O2. 3101282</td>\n",
       "      <td>7.9250</td>\n",
       "      <td>NaN</td>\n",
       "      <td>S</td>\n",
       "    </tr>\n",
       "    <tr>\n",
       "      <th>3</th>\n",
       "      <td>1</td>\n",
       "      <td>Futrelle, Mrs. Jacques Heath (Lily May Peel)</td>\n",
       "      <td>female</td>\n",
       "      <td>35.0</td>\n",
       "      <td>1</td>\n",
       "      <td>0</td>\n",
       "      <td>113803</td>\n",
       "      <td>53.1000</td>\n",
       "      <td>C123</td>\n",
       "      <td>S</td>\n",
       "    </tr>\n",
       "    <tr>\n",
       "      <th>4</th>\n",
       "      <td>3</td>\n",
       "      <td>Allen, Mr. William Henry</td>\n",
       "      <td>male</td>\n",
       "      <td>35.0</td>\n",
       "      <td>0</td>\n",
       "      <td>0</td>\n",
       "      <td>373450</td>\n",
       "      <td>8.0500</td>\n",
       "      <td>NaN</td>\n",
       "      <td>S</td>\n",
       "    </tr>\n",
       "  </tbody>\n",
       "</table>\n",
       "</div>"
      ],
      "text/plain": [
       "   Pclass                                               Name     Sex   Age  \\\n",
       "0       3                            Braund, Mr. Owen Harris    male  22.0   \n",
       "1       1  Cumings, Mrs. John Bradley (Florence Briggs Th...  female  38.0   \n",
       "2       3                             Heikkinen, Miss. Laina  female  26.0   \n",
       "3       1       Futrelle, Mrs. Jacques Heath (Lily May Peel)  female  35.0   \n",
       "4       3                           Allen, Mr. William Henry    male  35.0   \n",
       "\n",
       "   SibSp  Parch            Ticket     Fare Cabin Embarked  \n",
       "0      1      0         A/5 21171   7.2500   NaN        S  \n",
       "1      1      0          PC 17599  71.2833   C85        C  \n",
       "2      0      0  STON/O2. 3101282   7.9250   NaN        S  \n",
       "3      1      0            113803  53.1000  C123        S  \n",
       "4      0      0            373450   8.0500   NaN        S  "
      ]
     },
     "execution_count": 6,
     "metadata": {},
     "output_type": "execute_result"
    }
   ],
   "source": [
    "data1 = pd.concat([train1, test1], axis= 0).reset_index(drop= True)\n",
    "data1.head()"
   ]
  },
  {
   "cell_type": "code",
   "execution_count": 7,
   "id": "273d36e2",
   "metadata": {
    "execution": {
     "iopub.execute_input": "2022-09-03T05:08:23.121793Z",
     "iopub.status.busy": "2022-09-03T05:08:23.121190Z",
     "iopub.status.idle": "2022-09-03T05:08:23.130025Z",
     "shell.execute_reply": "2022-09-03T05:08:23.129086Z"
    },
    "papermill": {
     "duration": 0.027509,
     "end_time": "2022-09-03T05:08:23.132109",
     "exception": false,
     "start_time": "2022-09-03T05:08:23.104600",
     "status": "completed"
    },
    "tags": []
   },
   "outputs": [
    {
     "data": {
      "text/plain": [
       "Pclass         0\n",
       "Name           0\n",
       "Sex            0\n",
       "Age          263\n",
       "SibSp          0\n",
       "Parch          0\n",
       "Ticket         0\n",
       "Fare           1\n",
       "Cabin       1014\n",
       "Embarked       2\n",
       "dtype: int64"
      ]
     },
     "execution_count": 7,
     "metadata": {},
     "output_type": "execute_result"
    }
   ],
   "source": [
    "data1.isna().sum()"
   ]
  },
  {
   "cell_type": "code",
   "execution_count": 8,
   "id": "336cba2a",
   "metadata": {
    "execution": {
     "iopub.execute_input": "2022-09-03T05:08:23.165103Z",
     "iopub.status.busy": "2022-09-03T05:08:23.164687Z",
     "iopub.status.idle": "2022-09-03T05:08:23.170690Z",
     "shell.execute_reply": "2022-09-03T05:08:23.169610Z"
    },
    "papermill": {
     "duration": 0.025635,
     "end_time": "2022-09-03T05:08:23.173183",
     "exception": false,
     "start_time": "2022-09-03T05:08:23.147548",
     "status": "completed"
    },
    "tags": []
   },
   "outputs": [],
   "source": [
    "data1.drop(['Name', 'Ticket', 'Cabin'], axis= 1, inplace= True)"
   ]
  },
  {
   "cell_type": "code",
   "execution_count": 9,
   "id": "ce6e8a62",
   "metadata": {
    "execution": {
     "iopub.execute_input": "2022-09-03T05:08:23.206920Z",
     "iopub.status.busy": "2022-09-03T05:08:23.206112Z",
     "iopub.status.idle": "2022-09-03T05:08:23.220473Z",
     "shell.execute_reply": "2022-09-03T05:08:23.219326Z"
    },
    "papermill": {
     "duration": 0.033897,
     "end_time": "2022-09-03T05:08:23.222844",
     "exception": false,
     "start_time": "2022-09-03T05:08:23.188947",
     "status": "completed"
    },
    "tags": []
   },
   "outputs": [
    {
     "data": {
      "text/html": [
       "<div>\n",
       "<style scoped>\n",
       "    .dataframe tbody tr th:only-of-type {\n",
       "        vertical-align: middle;\n",
       "    }\n",
       "\n",
       "    .dataframe tbody tr th {\n",
       "        vertical-align: top;\n",
       "    }\n",
       "\n",
       "    .dataframe thead th {\n",
       "        text-align: right;\n",
       "    }\n",
       "</style>\n",
       "<table border=\"1\" class=\"dataframe\">\n",
       "  <thead>\n",
       "    <tr style=\"text-align: right;\">\n",
       "      <th></th>\n",
       "      <th>Pclass</th>\n",
       "      <th>Sex</th>\n",
       "      <th>Age</th>\n",
       "      <th>SibSp</th>\n",
       "      <th>Parch</th>\n",
       "      <th>Fare</th>\n",
       "      <th>Embarked</th>\n",
       "    </tr>\n",
       "  </thead>\n",
       "  <tbody>\n",
       "    <tr>\n",
       "      <th>0</th>\n",
       "      <td>3</td>\n",
       "      <td>male</td>\n",
       "      <td>22.0</td>\n",
       "      <td>1</td>\n",
       "      <td>0</td>\n",
       "      <td>7.2500</td>\n",
       "      <td>S</td>\n",
       "    </tr>\n",
       "    <tr>\n",
       "      <th>1</th>\n",
       "      <td>1</td>\n",
       "      <td>female</td>\n",
       "      <td>38.0</td>\n",
       "      <td>1</td>\n",
       "      <td>0</td>\n",
       "      <td>71.2833</td>\n",
       "      <td>C</td>\n",
       "    </tr>\n",
       "    <tr>\n",
       "      <th>2</th>\n",
       "      <td>3</td>\n",
       "      <td>female</td>\n",
       "      <td>26.0</td>\n",
       "      <td>0</td>\n",
       "      <td>0</td>\n",
       "      <td>7.9250</td>\n",
       "      <td>S</td>\n",
       "    </tr>\n",
       "    <tr>\n",
       "      <th>3</th>\n",
       "      <td>1</td>\n",
       "      <td>female</td>\n",
       "      <td>35.0</td>\n",
       "      <td>1</td>\n",
       "      <td>0</td>\n",
       "      <td>53.1000</td>\n",
       "      <td>S</td>\n",
       "    </tr>\n",
       "    <tr>\n",
       "      <th>4</th>\n",
       "      <td>3</td>\n",
       "      <td>male</td>\n",
       "      <td>35.0</td>\n",
       "      <td>0</td>\n",
       "      <td>0</td>\n",
       "      <td>8.0500</td>\n",
       "      <td>S</td>\n",
       "    </tr>\n",
       "  </tbody>\n",
       "</table>\n",
       "</div>"
      ],
      "text/plain": [
       "   Pclass     Sex   Age  SibSp  Parch     Fare Embarked\n",
       "0       3    male  22.0      1      0   7.2500        S\n",
       "1       1  female  38.0      1      0  71.2833        C\n",
       "2       3  female  26.0      0      0   7.9250        S\n",
       "3       1  female  35.0      1      0  53.1000        S\n",
       "4       3    male  35.0      0      0   8.0500        S"
      ]
     },
     "execution_count": 9,
     "metadata": {},
     "output_type": "execute_result"
    }
   ],
   "source": [
    "data1.head()"
   ]
  },
  {
   "cell_type": "markdown",
   "id": "30530f66",
   "metadata": {
    "papermill": {
     "duration": 0.01586,
     "end_time": "2022-09-03T05:08:23.254298",
     "exception": false,
     "start_time": "2022-09-03T05:08:23.238438",
     "status": "completed"
    },
    "tags": []
   },
   "source": [
    "## **EDA**"
   ]
  },
  {
   "cell_type": "code",
   "execution_count": 10,
   "id": "e2ca083e",
   "metadata": {
    "execution": {
     "iopub.execute_input": "2022-09-03T05:08:23.288371Z",
     "iopub.status.busy": "2022-09-03T05:08:23.287563Z",
     "iopub.status.idle": "2022-09-03T05:08:23.445149Z",
     "shell.execute_reply": "2022-09-03T05:08:23.444012Z"
    },
    "papermill": {
     "duration": 0.177448,
     "end_time": "2022-09-03T05:08:23.447621",
     "exception": false,
     "start_time": "2022-09-03T05:08:23.270173",
     "status": "completed"
    },
    "tags": []
   },
   "outputs": [
    {
     "data": {
      "image/png": "[encoded data removed]",
      "text/plain": [
       "<Figure size 432x288 with 1 Axes>"
      ]
     },
     "metadata": {},
     "output_type": "display_data"
    }
   ],
   "source": [
    "sns.countplot(x = target, palette= 'winter')\n",
    "plt.xlabel('Titanic Survival Rate');"
   ]
  },
  {
   "cell_type": "markdown",
   "id": "fafb5fe5",
   "metadata": {
    "papermill": {
     "duration": 0.016536,
     "end_time": "2022-09-03T05:08:23.480641",
     "exception": false,
     "start_time": "2022-09-03T05:08:23.464105",
     "status": "completed"
    },
    "tags": []
   },
   "source": [
    "So, it's clear from the above plot that majority of the people onboarding the titanic did not survived."
   ]
  },
  {
   "cell_type": "code",
   "execution_count": 11,
   "id": "8127d30c",
   "metadata": {
    "execution": {
     "iopub.execute_input": "2022-09-03T05:08:23.515606Z",
     "iopub.status.busy": "2022-09-03T05:08:23.514895Z",
     "iopub.status.idle": "2022-09-03T05:08:23.817179Z",
     "shell.execute_reply": "2022-09-03T05:08:23.815827Z"
    },
    "papermill": {
     "duration": 0.323938,
     "end_time": "2022-09-03T05:08:23.821002",
     "exception": false,
     "start_time": "2022-09-03T05:08:23.497064",
     "status": "completed"
    },
    "tags": []
   },
   "outputs": [
    {
     "data": {
      "image/png": "[encoded data removed]",
      "text/plain": [
       "<Figure size 1152x576 with 2 Axes>"
      ]
     },
     "metadata": {},
     "output_type": "display_data"
    }
   ],
   "source": [
    "plt.figure(figsize= (16, 8))\n",
    "sns.heatmap(data1.corr(), annot = True, cmap= 'YlGnBu', fmt= '.2f');"
   ]
  },
  {
   "cell_type": "markdown",
   "id": "aab8c784",
   "metadata": {
    "papermill": {
     "duration": 0.015998,
     "end_time": "2022-09-03T05:08:23.853645",
     "exception": false,
     "start_time": "2022-09-03T05:08:23.837647",
     "status": "completed"
    },
    "tags": []
   },
   "source": [
    "It seems like most of our independent varaibles are not correlated except `SibSp` and `Parch`. We will deal with that while doing feature engineering"
   ]
  },
  {
   "cell_type": "code",
   "execution_count": 12,
   "id": "663dccfd",
   "metadata": {
    "execution": {
     "iopub.execute_input": "2022-09-03T05:08:23.889027Z",
     "iopub.status.busy": "2022-09-03T05:08:23.888222Z",
     "iopub.status.idle": "2022-09-03T05:08:25.035048Z",
     "shell.execute_reply": "2022-09-03T05:08:25.034016Z"
    },
    "papermill": {
     "duration": 1.168171,
     "end_time": "2022-09-03T05:08:25.038121",
     "exception": false,
     "start_time": "2022-09-03T05:08:23.869950",
     "status": "completed"
    },
    "tags": []
   },
   "outputs": [
    {
     "data": {
      "image/png": "[encoded data removed]",
      "text/plain": [
       "<Figure size 1440x936 with 2 Axes>"
      ]
     },
     "metadata": {},
     "output_type": "display_data"
    }
   ],
   "source": [
    "sns.set_context('notebook', font_scale= 1.2)\n",
    "fig, ax = plt.subplots(2, figsize = (20, 13))\n",
    "\n",
    "plt.suptitle('Distribution of Age and Fair based on target variable', fontsize = 20)\n",
    "\n",
    "# I am using the training dataset only to plot these as we don't have target variable in our test dataset\n",
    "ax1 = sns.histplot(x ='Age', data= train, hue= 'Survived', kde= True, ax= ax[0], palette= 'winter')\n",
    "ax1.set(xlabel = 'Age', title= 'Distribution of Age based on target variable')\n",
    "\n",
    "ax2 = sns.histplot(x ='Fare', data= train, hue= 'Survived', kde= True, ax= ax[1], palette= 'viridis')\n",
    "ax2.set(xlabel = 'Fare', title= 'Distribution of Fare based on target variable')\n",
    "\n",
    "plt.show()"
   ]
  },
  {
   "cell_type": "markdown",
   "id": "20d323aa",
   "metadata": {
    "papermill": {
     "duration": 0.017738,
     "end_time": "2022-09-03T05:08:25.074598",
     "exception": false,
     "start_time": "2022-09-03T05:08:25.056860",
     "status": "completed"
    },
    "tags": []
   },
   "source": [
    "It is evident from the plot that children did tend to have more chances of survival as compared to older individuals\n"
   ]
  },
  {
   "cell_type": "code",
   "execution_count": 13,
   "id": "74bb4b17",
   "metadata": {
    "execution": {
     "iopub.execute_input": "2022-09-03T05:08:25.113006Z",
     "iopub.status.busy": "2022-09-03T05:08:25.112231Z",
     "iopub.status.idle": "2022-09-03T05:08:25.320615Z",
     "shell.execute_reply": "2022-09-03T05:08:25.319771Z"
    },
    "papermill": {
     "duration": 0.230463,
     "end_time": "2022-09-03T05:08:25.323126",
     "exception": false,
     "start_time": "2022-09-03T05:08:25.092663",
     "status": "completed"
    },
    "tags": []
   },
   "outputs": [
    {
     "data": {
      "image/png": "[encoded data removed]",
      "text/plain": [
       "<Figure size 432x288 with 1 Axes>"
      ]
     },
     "metadata": {},
     "output_type": "display_data"
    }
   ],
   "source": [
    "sns.countplot(x = 'Sex', data= train, hue= 'Survived', palette= 'pastel')\n",
    "plt.title('Survival chance based on Gender', fontsize = 15);"
   ]
  },
  {
   "cell_type": "markdown",
   "id": "8db8fa5d",
   "metadata": {
    "papermill": {
     "duration": 0.018175,
     "end_time": "2022-09-03T05:08:25.359824",
     "exception": false,
     "start_time": "2022-09-03T05:08:25.341649",
     "status": "completed"
    },
    "tags": []
   },
   "source": [
    "Now that's a clear pattern here. It seems like females were 3 times more likely to survive as compared to males."
   ]
  },
  {
   "cell_type": "code",
   "execution_count": 14,
   "id": "50e055c2",
   "metadata": {
    "execution": {
     "iopub.execute_input": "2022-09-03T05:08:25.398519Z",
     "iopub.status.busy": "2022-09-03T05:08:25.397825Z",
     "iopub.status.idle": "2022-09-03T05:08:25.626672Z",
     "shell.execute_reply": "2022-09-03T05:08:25.625904Z"
    },
    "papermill": {
     "duration": 0.250638,
     "end_time": "2022-09-03T05:08:25.628767",
     "exception": false,
     "start_time": "2022-09-03T05:08:25.378129",
     "status": "completed"
    },
    "tags": []
   },
   "outputs": [
    {
     "data": {
      "image/png": "[encoded data removed]",
      "text/plain": [
       "<Figure size 432x288 with 1 Axes>"
      ]
     },
     "metadata": {},
     "output_type": "display_data"
    }
   ],
   "source": [
    "sns.countplot(x = 'Pclass', data= train, hue= 'Survived', palette= 'pastel')\n",
    "plt.title('Survival chance based on Ticket Class', fontsize = 15);"
   ]
  },
  {
   "cell_type": "markdown",
   "id": "e07fe21c",
   "metadata": {
    "papermill": {
     "duration": 0.018325,
     "end_time": "2022-09-03T05:08:25.665730",
     "exception": false,
     "start_time": "2022-09-03T05:08:25.647405",
     "status": "completed"
    },
    "tags": []
   },
   "source": [
    "We can also conclude that people travelling in 3rd class were less likely to survive as compared to people travelling in first class\n"
   ]
  },
  {
   "cell_type": "markdown",
   "id": "071db7b0",
   "metadata": {
    "papermill": {
     "duration": 0.01824,
     "end_time": "2022-09-03T05:08:25.702651",
     "exception": false,
     "start_time": "2022-09-03T05:08:25.684411",
     "status": "completed"
    },
    "tags": []
   },
   "source": [
    "## **Filling Missing Values**"
   ]
  },
  {
   "cell_type": "code",
   "execution_count": 15,
   "id": "badf668e",
   "metadata": {
    "execution": {
     "iopub.execute_input": "2022-09-03T05:08:25.741901Z",
     "iopub.status.busy": "2022-09-03T05:08:25.741451Z",
     "iopub.status.idle": "2022-09-03T05:08:25.749250Z",
     "shell.execute_reply": "2022-09-03T05:08:25.748084Z"
    },
    "papermill": {
     "duration": 0.0306,
     "end_time": "2022-09-03T05:08:25.751660",
     "exception": false,
     "start_time": "2022-09-03T05:08:25.721060",
     "status": "completed"
    },
    "tags": []
   },
   "outputs": [],
   "source": [
    "def knn_impute(df, na_target):\n",
    "    df = df.copy()\n",
    "    \n",
    "    numeric_df = df.select_dtypes(np.number)\n",
    "    non_na_columns = numeric_df.loc[: ,numeric_df.isna().sum() == 0].columns\n",
    "    \n",
    "    y_train = numeric_df.loc[numeric_df[na_target].isna() == False, na_target]\n",
    "    X_train = numeric_df.loc[numeric_df[na_target].isna() == False, non_na_columns]\n",
    "    X_test = numeric_df.loc[numeric_df[na_target].isna() == True, non_na_columns]\n",
    "    \n",
    "    knn = KNeighborsRegressor()\n",
    "    knn.fit(X_train, y_train)\n",
    "    \n",
    "    y_pred = knn.predict(X_test)\n",
    "    \n",
    "    df.loc[df[na_target].isna() == True, na_target] = y_pred\n",
    "    \n",
    "    return df"
   ]
  },
  {
   "cell_type": "code",
   "execution_count": 16,
   "id": "272a1dbd",
   "metadata": {
    "execution": {
     "iopub.execute_input": "2022-09-03T05:08:25.790761Z",
     "iopub.status.busy": "2022-09-03T05:08:25.790320Z",
     "iopub.status.idle": "2022-09-03T05:08:26.288884Z",
     "shell.execute_reply": "2022-09-03T05:08:26.287811Z"
    },
    "papermill": {
     "duration": 0.520684,
     "end_time": "2022-09-03T05:08:26.291199",
     "exception": false,
     "start_time": "2022-09-03T05:08:25.770515",
     "status": "completed"
    },
    "tags": []
   },
   "outputs": [
    {
     "data": {
      "image/png": "[encoded data removed]",
      "text/plain": [
       "<Figure size 432x288 with 1 Axes>"
      ]
     },
     "metadata": {},
     "output_type": "display_data"
    }
   ],
   "source": [
    "sns.histplot(data1['Age'], color= 'teal', kde= True);"
   ]
  },
  {
   "cell_type": "code",
   "execution_count": 17,
   "id": "fd100efe",
   "metadata": {
    "execution": {
     "iopub.execute_input": "2022-09-03T05:08:26.331739Z",
     "iopub.status.busy": "2022-09-03T05:08:26.331287Z",
     "iopub.status.idle": "2022-09-03T05:08:26.349266Z",
     "shell.execute_reply": "2022-09-03T05:08:26.348042Z"
    },
    "papermill": {
     "duration": 0.041347,
     "end_time": "2022-09-03T05:08:26.352028",
     "exception": false,
     "start_time": "2022-09-03T05:08:26.310681",
     "status": "completed"
    },
    "tags": []
   },
   "outputs": [],
   "source": [
    "data2 = knn_impute(data1, 'Age')"
   ]
  },
  {
   "cell_type": "code",
   "execution_count": 18,
   "id": "154c6ada",
   "metadata": {
    "execution": {
     "iopub.execute_input": "2022-09-03T05:08:26.391830Z",
     "iopub.status.busy": "2022-09-03T05:08:26.391418Z",
     "iopub.status.idle": "2022-09-03T05:08:26.574364Z",
     "shell.execute_reply": "2022-09-03T05:08:26.573192Z"
    },
    "papermill": {
     "duration": 0.205988,
     "end_time": "2022-09-03T05:08:26.577032",
     "exception": false,
     "start_time": "2022-09-03T05:08:26.371044",
     "status": "completed"
    },
    "tags": []
   },
   "outputs": [
    {
     "data": {
      "image/png": "[encoded data removed]",
      "text/plain": [
       "<Figure size 432x288 with 1 Axes>"
      ]
     },
     "metadata": {},
     "output_type": "display_data"
    }
   ],
   "source": [
    "sns.countplot(x = data2['Embarked'], palette= 'Set2');"
   ]
  },
  {
   "cell_type": "markdown",
   "id": "696ab83d",
   "metadata": {
    "papermill": {
     "duration": 0.018947,
     "end_time": "2022-09-03T05:08:26.615629",
     "exception": false,
     "start_time": "2022-09-03T05:08:26.596682",
     "status": "completed"
    },
    "tags": []
   },
   "source": [
    "Majority of the people embarked from Southampton, so we will just fill the missing values in Embarked column with `S`"
   ]
  },
  {
   "cell_type": "code",
   "execution_count": 19,
   "id": "5520d70e",
   "metadata": {
    "execution": {
     "iopub.execute_input": "2022-09-03T05:08:26.657375Z",
     "iopub.status.busy": "2022-09-03T05:08:26.656956Z",
     "iopub.status.idle": "2022-09-03T05:08:26.663112Z",
     "shell.execute_reply": "2022-09-03T05:08:26.661970Z"
    },
    "papermill": {
     "duration": 0.029091,
     "end_time": "2022-09-03T05:08:26.665244",
     "exception": false,
     "start_time": "2022-09-03T05:08:26.636153",
     "status": "completed"
    },
    "tags": []
   },
   "outputs": [],
   "source": [
    "data2['Embarked'].fillna('S', inplace= True)"
   ]
  },
  {
   "cell_type": "code",
   "execution_count": 20,
   "id": "40ad7d10",
   "metadata": {
    "execution": {
     "iopub.execute_input": "2022-09-03T05:08:26.705823Z",
     "iopub.status.busy": "2022-09-03T05:08:26.705300Z",
     "iopub.status.idle": "2022-09-03T05:08:27.173159Z",
     "shell.execute_reply": "2022-09-03T05:08:27.172241Z"
    },
    "papermill": {
     "duration": 0.491509,
     "end_time": "2022-09-03T05:08:27.176031",
     "exception": false,
     "start_time": "2022-09-03T05:08:26.684522",
     "status": "completed"
    },
    "tags": []
   },
   "outputs": [
    {
     "data": {
      "image/png": "[encoded data removed]",
      "text/plain": [
       "<Figure size 720x432 with 1 Axes>"
      ]
     },
     "metadata": {},
     "output_type": "display_data"
    }
   ],
   "source": [
    "plt.figure(figsize= (10, 6))\n",
    "sns.histplot(data2['Fare'], color= 'Teal', kde= True);"
   ]
  },
  {
   "cell_type": "markdown",
   "id": "e03a0134",
   "metadata": {
    "papermill": {
     "duration": 0.025231,
     "end_time": "2022-09-03T05:08:27.222684",
     "exception": false,
     "start_time": "2022-09-03T05:08:27.197453",
     "status": "completed"
    },
    "tags": []
   },
   "source": [
    "Distribution of `Fare` is clearly skewed, therefore we will just fill the only missing value we have in this column with median"
   ]
  },
  {
   "cell_type": "code",
   "execution_count": 21,
   "id": "1ac97bb2",
   "metadata": {
    "execution": {
     "iopub.execute_input": "2022-09-03T05:08:27.275554Z",
     "iopub.status.busy": "2022-09-03T05:08:27.274947Z",
     "iopub.status.idle": "2022-09-03T05:08:27.282672Z",
     "shell.execute_reply": "2022-09-03T05:08:27.281820Z"
    },
    "papermill": {
     "duration": 0.038197,
     "end_time": "2022-09-03T05:08:27.284841",
     "exception": false,
     "start_time": "2022-09-03T05:08:27.246644",
     "status": "completed"
    },
    "tags": []
   },
   "outputs": [],
   "source": [
    "data2['Fare'].fillna(data1['Fare'].median(), inplace= True)"
   ]
  },
  {
   "cell_type": "code",
   "execution_count": 22,
   "id": "fa558910",
   "metadata": {
    "execution": {
     "iopub.execute_input": "2022-09-03T05:08:27.331910Z",
     "iopub.status.busy": "2022-09-03T05:08:27.330551Z",
     "iopub.status.idle": "2022-09-03T05:08:27.339829Z",
     "shell.execute_reply": "2022-09-03T05:08:27.339023Z"
    },
    "papermill": {
     "duration": 0.034605,
     "end_time": "2022-09-03T05:08:27.341967",
     "exception": false,
     "start_time": "2022-09-03T05:08:27.307362",
     "status": "completed"
    },
    "tags": []
   },
   "outputs": [
    {
     "data": {
      "text/plain": [
       "Pclass      0\n",
       "Sex         0\n",
       "Age         0\n",
       "SibSp       0\n",
       "Parch       0\n",
       "Fare        0\n",
       "Embarked    0\n",
       "dtype: int64"
      ]
     },
     "execution_count": 22,
     "metadata": {},
     "output_type": "execute_result"
    }
   ],
   "source": [
    "data2.isna().sum()\n"
   ]
  },
  {
   "cell_type": "markdown",
   "id": "e666f89b",
   "metadata": {
    "papermill": {
     "duration": 0.019412,
     "end_time": "2022-09-03T05:08:27.381612",
     "exception": false,
     "start_time": "2022-09-03T05:08:27.362200",
     "status": "completed"
    },
    "tags": []
   },
   "source": [
    "We don't have any more missing values in the dataset. Let's now move on to Encoding our categorical variables"
   ]
  },
  {
   "cell_type": "markdown",
   "id": "8b01cf5f",
   "metadata": {
    "papermill": {
     "duration": 0.019447,
     "end_time": "2022-09-03T05:08:27.420891",
     "exception": false,
     "start_time": "2022-09-03T05:08:27.401444",
     "status": "completed"
    },
    "tags": []
   },
   "source": [
    "## **Encoding**"
   ]
  },
  {
   "cell_type": "code",
   "execution_count": 23,
   "id": "e4fc7dd8",
   "metadata": {
    "execution": {
     "iopub.execute_input": "2022-09-03T05:08:27.462510Z",
     "iopub.status.busy": "2022-09-03T05:08:27.461355Z",
     "iopub.status.idle": "2022-09-03T05:08:27.485823Z",
     "shell.execute_reply": "2022-09-03T05:08:27.484569Z"
    },
    "papermill": {
     "duration": 0.04817,
     "end_time": "2022-09-03T05:08:27.488645",
     "exception": false,
     "start_time": "2022-09-03T05:08:27.440475",
     "status": "completed"
    },
    "tags": []
   },
   "outputs": [
    {
     "name": "stdout",
     "output_type": "stream",
     "text": [
      "<class 'pandas.core.frame.DataFrame'>\n",
      "RangeIndex: 1309 entries, 0 to 1308\n",
      "Data columns (total 7 columns):\n",
      " #   Column    Non-Null Count  Dtype  \n",
      "---  ------    --------------  -----  \n",
      " 0   Pclass    1309 non-null   int64  \n",
      " 1   Sex       1309 non-null   object \n",
      " 2   Age       1309 non-null   float64\n",
      " 3   SibSp     1309 non-null   int64  \n",
      " 4   Parch     1309 non-null   int64  \n",
      " 5   Fare      1309 non-null   float64\n",
      " 6   Embarked  1309 non-null   object \n",
      "dtypes: float64(2), int64(3), object(2)\n",
      "memory usage: 71.7+ KB\n"
     ]
    }
   ],
   "source": [
    "data3 = data2.copy()\n",
    "data3.info()"
   ]
  },
  {
   "cell_type": "code",
   "execution_count": 24,
   "id": "296dfb5c",
   "metadata": {
    "execution": {
     "iopub.execute_input": "2022-09-03T05:08:27.532054Z",
     "iopub.status.busy": "2022-09-03T05:08:27.531315Z",
     "iopub.status.idle": "2022-09-03T05:08:27.541611Z",
     "shell.execute_reply": "2022-09-03T05:08:27.540738Z"
    },
    "papermill": {
     "duration": 0.034078,
     "end_time": "2022-09-03T05:08:27.543691",
     "exception": false,
     "start_time": "2022-09-03T05:08:27.509613",
     "status": "completed"
    },
    "tags": []
   },
   "outputs": [],
   "source": [
    "data3 = pd.get_dummies(data3)"
   ]
  },
  {
   "cell_type": "code",
   "execution_count": 25,
   "id": "70273f13",
   "metadata": {
    "execution": {
     "iopub.execute_input": "2022-09-03T05:08:27.586554Z",
     "iopub.status.busy": "2022-09-03T05:08:27.585856Z",
     "iopub.status.idle": "2022-09-03T05:08:27.599141Z",
     "shell.execute_reply": "2022-09-03T05:08:27.598324Z"
    },
    "papermill": {
     "duration": 0.037671,
     "end_time": "2022-09-03T05:08:27.601197",
     "exception": false,
     "start_time": "2022-09-03T05:08:27.563526",
     "status": "completed"
    },
    "tags": []
   },
   "outputs": [
    {
     "data": {
      "text/html": [
       "<div>\n",
       "<style scoped>\n",
       "    .dataframe tbody tr th:only-of-type {\n",
       "        vertical-align: middle;\n",
       "    }\n",
       "\n",
       "    .dataframe tbody tr th {\n",
       "        vertical-align: top;\n",
       "    }\n",
       "\n",
       "    .dataframe thead th {\n",
       "        text-align: right;\n",
       "    }\n",
       "</style>\n",
       "<table border=\"1\" class=\"dataframe\">\n",
       "  <thead>\n",
       "    <tr style=\"text-align: right;\">\n",
       "      <th></th>\n",
       "      <th>Pclass</th>\n",
       "      <th>Age</th>\n",
       "      <th>SibSp</th>\n",
       "      <th>Parch</th>\n",
       "      <th>Fare</th>\n",
       "      <th>Sex_female</th>\n",
       "      <th>Sex_male</th>\n",
       "      <th>Embarked_C</th>\n",
       "      <th>Embarked_Q</th>\n",
       "      <th>Embarked_S</th>\n",
       "    </tr>\n",
       "  </thead>\n",
       "  <tbody>\n",
       "    <tr>\n",
       "      <th>0</th>\n",
       "      <td>3</td>\n",
       "      <td>22.0</td>\n",
       "      <td>1</td>\n",
       "      <td>0</td>\n",
       "      <td>7.2500</td>\n",
       "      <td>0</td>\n",
       "      <td>1</td>\n",
       "      <td>0</td>\n",
       "      <td>0</td>\n",
       "      <td>1</td>\n",
       "    </tr>\n",
       "    <tr>\n",
       "      <th>1</th>\n",
       "      <td>1</td>\n",
       "      <td>38.0</td>\n",
       "      <td>1</td>\n",
       "      <td>0</td>\n",
       "      <td>71.2833</td>\n",
       "      <td>1</td>\n",
       "      <td>0</td>\n",
       "      <td>1</td>\n",
       "      <td>0</td>\n",
       "      <td>0</td>\n",
       "    </tr>\n",
       "    <tr>\n",
       "      <th>2</th>\n",
       "      <td>3</td>\n",
       "      <td>26.0</td>\n",
       "      <td>0</td>\n",
       "      <td>0</td>\n",
       "      <td>7.9250</td>\n",
       "      <td>1</td>\n",
       "      <td>0</td>\n",
       "      <td>0</td>\n",
       "      <td>0</td>\n",
       "      <td>1</td>\n",
       "    </tr>\n",
       "    <tr>\n",
       "      <th>3</th>\n",
       "      <td>1</td>\n",
       "      <td>35.0</td>\n",
       "      <td>1</td>\n",
       "      <td>0</td>\n",
       "      <td>53.1000</td>\n",
       "      <td>1</td>\n",
       "      <td>0</td>\n",
       "      <td>0</td>\n",
       "      <td>0</td>\n",
       "      <td>1</td>\n",
       "    </tr>\n",
       "    <tr>\n",
       "      <th>4</th>\n",
       "      <td>3</td>\n",
       "      <td>35.0</td>\n",
       "      <td>0</td>\n",
       "      <td>0</td>\n",
       "      <td>8.0500</td>\n",
       "      <td>0</td>\n",
       "      <td>1</td>\n",
       "      <td>0</td>\n",
       "      <td>0</td>\n",
       "      <td>1</td>\n",
       "    </tr>\n",
       "  </tbody>\n",
       "</table>\n",
       "</div>"
      ],
      "text/plain": [
       "   Pclass   Age  SibSp  Parch     Fare  Sex_female  Sex_male  Embarked_C  \\\n",
       "0       3  22.0      1      0   7.2500           0         1           0   \n",
       "1       1  38.0      1      0  71.2833           1         0           1   \n",
       "2       3  26.0      0      0   7.9250           1         0           0   \n",
       "3       1  35.0      1      0  53.1000           1         0           0   \n",
       "4       3  35.0      0      0   8.0500           0         1           0   \n",
       "\n",
       "   Embarked_Q  Embarked_S  \n",
       "0           0           1  \n",
       "1           0           0  \n",
       "2           0           1  \n",
       "3           0           1  \n",
       "4           0           1  "
      ]
     },
     "execution_count": 25,
     "metadata": {},
     "output_type": "execute_result"
    }
   ],
   "source": [
    "data3.head()"
   ]
  },
  {
   "cell_type": "markdown",
   "id": "eeae0b44",
   "metadata": {
    "papermill": {
     "duration": 0.019961,
     "end_time": "2022-09-03T05:08:27.641376",
     "exception": false,
     "start_time": "2022-09-03T05:08:27.621415",
     "status": "completed"
    },
    "tags": []
   },
   "source": [
    "## **Scaling**"
   ]
  },
  {
   "cell_type": "code",
   "execution_count": 26,
   "id": "4838f4d9",
   "metadata": {
    "execution": {
     "iopub.execute_input": "2022-09-03T05:08:27.685058Z",
     "iopub.status.busy": "2022-09-03T05:08:27.684297Z",
     "iopub.status.idle": "2022-09-03T05:08:27.694306Z",
     "shell.execute_reply": "2022-09-03T05:08:27.693107Z"
    },
    "papermill": {
     "duration": 0.034368,
     "end_time": "2022-09-03T05:08:27.696953",
     "exception": false,
     "start_time": "2022-09-03T05:08:27.662585",
     "status": "completed"
    },
    "tags": []
   },
   "outputs": [],
   "source": [
    "sc = StandardScaler()\n",
    "data3[['Age', 'Fare']] = sc.fit_transform(data3[['Age', 'Fare']])\n"
   ]
  },
  {
   "cell_type": "code",
   "execution_count": 27,
   "id": "54b0e574",
   "metadata": {
    "execution": {
     "iopub.execute_input": "2022-09-03T05:08:27.739512Z",
     "iopub.status.busy": "2022-09-03T05:08:27.739102Z",
     "iopub.status.idle": "2022-09-03T05:08:27.753855Z",
     "shell.execute_reply": "2022-09-03T05:08:27.752670Z"
    },
    "papermill": {
     "duration": 0.038756,
     "end_time": "2022-09-03T05:08:27.756172",
     "exception": false,
     "start_time": "2022-09-03T05:08:27.717416",
     "status": "completed"
    },
    "tags": []
   },
   "outputs": [
    {
     "data": {
      "text/html": [
       "<div>\n",
       "<style scoped>\n",
       "    .dataframe tbody tr th:only-of-type {\n",
       "        vertical-align: middle;\n",
       "    }\n",
       "\n",
       "    .dataframe tbody tr th {\n",
       "        vertical-align: top;\n",
       "    }\n",
       "\n",
       "    .dataframe thead th {\n",
       "        text-align: right;\n",
       "    }\n",
       "</style>\n",
       "<table border=\"1\" class=\"dataframe\">\n",
       "  <thead>\n",
       "    <tr style=\"text-align: right;\">\n",
       "      <th></th>\n",
       "      <th>Pclass</th>\n",
       "      <th>Age</th>\n",
       "      <th>SibSp</th>\n",
       "      <th>Parch</th>\n",
       "      <th>Fare</th>\n",
       "      <th>Sex_female</th>\n",
       "      <th>Sex_male</th>\n",
       "      <th>Embarked_C</th>\n",
       "      <th>Embarked_Q</th>\n",
       "      <th>Embarked_S</th>\n",
       "    </tr>\n",
       "  </thead>\n",
       "  <tbody>\n",
       "    <tr>\n",
       "      <th>0</th>\n",
       "      <td>3</td>\n",
       "      <td>-0.534915</td>\n",
       "      <td>1</td>\n",
       "      <td>0</td>\n",
       "      <td>-0.503291</td>\n",
       "      <td>0</td>\n",
       "      <td>1</td>\n",
       "      <td>0</td>\n",
       "      <td>0</td>\n",
       "      <td>1</td>\n",
       "    </tr>\n",
       "    <tr>\n",
       "      <th>1</th>\n",
       "      <td>1</td>\n",
       "      <td>0.639651</td>\n",
       "      <td>1</td>\n",
       "      <td>0</td>\n",
       "      <td>0.734744</td>\n",
       "      <td>1</td>\n",
       "      <td>0</td>\n",
       "      <td>1</td>\n",
       "      <td>0</td>\n",
       "      <td>0</td>\n",
       "    </tr>\n",
       "    <tr>\n",
       "      <th>2</th>\n",
       "      <td>3</td>\n",
       "      <td>-0.241273</td>\n",
       "      <td>0</td>\n",
       "      <td>0</td>\n",
       "      <td>-0.490240</td>\n",
       "      <td>1</td>\n",
       "      <td>0</td>\n",
       "      <td>0</td>\n",
       "      <td>0</td>\n",
       "      <td>1</td>\n",
       "    </tr>\n",
       "    <tr>\n",
       "      <th>3</th>\n",
       "      <td>1</td>\n",
       "      <td>0.419420</td>\n",
       "      <td>1</td>\n",
       "      <td>0</td>\n",
       "      <td>0.383183</td>\n",
       "      <td>1</td>\n",
       "      <td>0</td>\n",
       "      <td>0</td>\n",
       "      <td>0</td>\n",
       "      <td>1</td>\n",
       "    </tr>\n",
       "    <tr>\n",
       "      <th>4</th>\n",
       "      <td>3</td>\n",
       "      <td>0.419420</td>\n",
       "      <td>0</td>\n",
       "      <td>0</td>\n",
       "      <td>-0.487824</td>\n",
       "      <td>0</td>\n",
       "      <td>1</td>\n",
       "      <td>0</td>\n",
       "      <td>0</td>\n",
       "      <td>1</td>\n",
       "    </tr>\n",
       "  </tbody>\n",
       "</table>\n",
       "</div>"
      ],
      "text/plain": [
       "   Pclass       Age  SibSp  Parch      Fare  Sex_female  Sex_male  Embarked_C  \\\n",
       "0       3 -0.534915      1      0 -0.503291           0         1           0   \n",
       "1       1  0.639651      1      0  0.734744           1         0           1   \n",
       "2       3 -0.241273      0      0 -0.490240           1         0           0   \n",
       "3       1  0.419420      1      0  0.383183           1         0           0   \n",
       "4       3  0.419420      0      0 -0.487824           0         1           0   \n",
       "\n",
       "   Embarked_Q  Embarked_S  \n",
       "0           0           1  \n",
       "1           0           0  \n",
       "2           0           1  \n",
       "3           0           1  \n",
       "4           0           1  "
      ]
     },
     "execution_count": 27,
     "metadata": {},
     "output_type": "execute_result"
    }
   ],
   "source": [
    "data3.head()"
   ]
  },
  {
   "cell_type": "markdown",
   "id": "fb59493f",
   "metadata": {
    "papermill": {
     "duration": 0.01997,
     "end_time": "2022-09-03T05:08:27.796511",
     "exception": false,
     "start_time": "2022-09-03T05:08:27.776541",
     "status": "completed"
    },
    "tags": []
   },
   "source": [
    "## **Feature Enginerring**"
   ]
  },
  {
   "cell_type": "markdown",
   "id": "5667bf05",
   "metadata": {
    "papermill": {
     "duration": 0.034677,
     "end_time": "2022-09-03T05:08:27.852662",
     "exception": false,
     "start_time": "2022-09-03T05:08:27.817985",
     "status": "completed"
    },
    "tags": []
   },
   "source": [
    "Both the `SibSp` and `Parch` column suggests whether the person was person was travelling with his family or not. So we will convert these features into a single feature called family"
   ]
  },
  {
   "cell_type": "code",
   "execution_count": 28,
   "id": "8ac05b56",
   "metadata": {
    "execution": {
     "iopub.execute_input": "2022-09-03T05:08:27.896311Z",
     "iopub.status.busy": "2022-09-03T05:08:27.895581Z",
     "iopub.status.idle": "2022-09-03T05:08:27.903326Z",
     "shell.execute_reply": "2022-09-03T05:08:27.902424Z"
    },
    "papermill": {
     "duration": 0.031578,
     "end_time": "2022-09-03T05:08:27.905444",
     "exception": false,
     "start_time": "2022-09-03T05:08:27.873866",
     "status": "completed"
    },
    "tags": []
   },
   "outputs": [],
   "source": [
    "data3['Family'] = np.where(data3['SibSp'] + data3['Parch'] > 0, 1, 0)\n",
    "data3.drop(['SibSp', 'Parch'], axis= 1, inplace= True)"
   ]
  },
  {
   "cell_type": "code",
   "execution_count": 29,
   "id": "5e993c89",
   "metadata": {
    "execution": {
     "iopub.execute_input": "2022-09-03T05:08:27.948422Z",
     "iopub.status.busy": "2022-09-03T05:08:27.947438Z",
     "iopub.status.idle": "2022-09-03T05:08:27.960681Z",
     "shell.execute_reply": "2022-09-03T05:08:27.959814Z"
    },
    "papermill": {
     "duration": 0.036902,
     "end_time": "2022-09-03T05:08:27.962948",
     "exception": false,
     "start_time": "2022-09-03T05:08:27.926046",
     "status": "completed"
    },
    "tags": []
   },
   "outputs": [
    {
     "data": {
      "text/html": [
       "<div>\n",
       "<style scoped>\n",
       "    .dataframe tbody tr th:only-of-type {\n",
       "        vertical-align: middle;\n",
       "    }\n",
       "\n",
       "    .dataframe tbody tr th {\n",
       "        vertical-align: top;\n",
       "    }\n",
       "\n",
       "    .dataframe thead th {\n",
       "        text-align: right;\n",
       "    }\n",
       "</style>\n",
       "<table border=\"1\" class=\"dataframe\">\n",
       "  <thead>\n",
       "    <tr style=\"text-align: right;\">\n",
       "      <th></th>\n",
       "      <th>Pclass</th>\n",
       "      <th>Age</th>\n",
       "      <th>Fare</th>\n",
       "      <th>Sex_female</th>\n",
       "      <th>Sex_male</th>\n",
       "      <th>Embarked_C</th>\n",
       "      <th>Embarked_Q</th>\n",
       "      <th>Embarked_S</th>\n",
       "      <th>Family</th>\n",
       "    </tr>\n",
       "  </thead>\n",
       "  <tbody>\n",
       "    <tr>\n",
       "      <th>0</th>\n",
       "      <td>3</td>\n",
       "      <td>-0.534915</td>\n",
       "      <td>-0.503291</td>\n",
       "      <td>0</td>\n",
       "      <td>1</td>\n",
       "      <td>0</td>\n",
       "      <td>0</td>\n",
       "      <td>1</td>\n",
       "      <td>1</td>\n",
       "    </tr>\n",
       "    <tr>\n",
       "      <th>1</th>\n",
       "      <td>1</td>\n",
       "      <td>0.639651</td>\n",
       "      <td>0.734744</td>\n",
       "      <td>1</td>\n",
       "      <td>0</td>\n",
       "      <td>1</td>\n",
       "      <td>0</td>\n",
       "      <td>0</td>\n",
       "      <td>1</td>\n",
       "    </tr>\n",
       "    <tr>\n",
       "      <th>2</th>\n",
       "      <td>3</td>\n",
       "      <td>-0.241273</td>\n",
       "      <td>-0.490240</td>\n",
       "      <td>1</td>\n",
       "      <td>0</td>\n",
       "      <td>0</td>\n",
       "      <td>0</td>\n",
       "      <td>1</td>\n",
       "      <td>0</td>\n",
       "    </tr>\n",
       "    <tr>\n",
       "      <th>3</th>\n",
       "      <td>1</td>\n",
       "      <td>0.419420</td>\n",
       "      <td>0.383183</td>\n",
       "      <td>1</td>\n",
       "      <td>0</td>\n",
       "      <td>0</td>\n",
       "      <td>0</td>\n",
       "      <td>1</td>\n",
       "      <td>1</td>\n",
       "    </tr>\n",
       "    <tr>\n",
       "      <th>4</th>\n",
       "      <td>3</td>\n",
       "      <td>0.419420</td>\n",
       "      <td>-0.487824</td>\n",
       "      <td>0</td>\n",
       "      <td>1</td>\n",
       "      <td>0</td>\n",
       "      <td>0</td>\n",
       "      <td>1</td>\n",
       "      <td>0</td>\n",
       "    </tr>\n",
       "  </tbody>\n",
       "</table>\n",
       "</div>"
      ],
      "text/plain": [
       "   Pclass       Age      Fare  Sex_female  Sex_male  Embarked_C  Embarked_Q  \\\n",
       "0       3 -0.534915 -0.503291           0         1           0           0   \n",
       "1       1  0.639651  0.734744           1         0           1           0   \n",
       "2       3 -0.241273 -0.490240           1         0           0           0   \n",
       "3       1  0.419420  0.383183           1         0           0           0   \n",
       "4       3  0.419420 -0.487824           0         1           0           0   \n",
       "\n",
       "   Embarked_S  Family  \n",
       "0           1       1  \n",
       "1           0       1  \n",
       "2           1       0  \n",
       "3           1       1  \n",
       "4           1       0  "
      ]
     },
     "execution_count": 29,
     "metadata": {},
     "output_type": "execute_result"
    }
   ],
   "source": [
    "data3.head()"
   ]
  },
  {
   "cell_type": "code",
   "execution_count": 30,
   "id": "8b6159a9",
   "metadata": {
    "execution": {
     "iopub.execute_input": "2022-09-03T05:08:28.006479Z",
     "iopub.status.busy": "2022-09-03T05:08:28.005736Z",
     "iopub.status.idle": "2022-09-03T05:08:28.011535Z",
     "shell.execute_reply": "2022-09-03T05:08:28.010693Z"
    },
    "papermill": {
     "duration": 0.03,
     "end_time": "2022-09-03T05:08:28.013599",
     "exception": false,
     "start_time": "2022-09-03T05:08:27.983599",
     "status": "completed"
    },
    "tags": []
   },
   "outputs": [],
   "source": [
    "train_final = data3.loc[:train.index.max(), :].copy()\n",
    "test_final = data3.loc[train.index.max() + 1:, :].reset_index(drop=True).copy()\n"
   ]
  },
  {
   "cell_type": "markdown",
   "id": "4566557b",
   "metadata": {
    "papermill": {
     "duration": 0.020048,
     "end_time": "2022-09-03T05:08:28.054167",
     "exception": false,
     "start_time": "2022-09-03T05:08:28.034119",
     "status": "completed"
    },
    "tags": []
   },
   "source": [
    "## **Modelling**"
   ]
  },
  {
   "cell_type": "code",
   "execution_count": 31,
   "id": "451a0d3d",
   "metadata": {
    "execution": {
     "iopub.execute_input": "2022-09-03T05:08:28.096743Z",
     "iopub.status.busy": "2022-09-03T05:08:28.096130Z",
     "iopub.status.idle": "2022-09-03T05:08:28.105248Z",
     "shell.execute_reply": "2022-09-03T05:08:28.104315Z"
    },
    "papermill": {
     "duration": 0.033211,
     "end_time": "2022-09-03T05:08:28.107656",
     "exception": false,
     "start_time": "2022-09-03T05:08:28.074445",
     "status": "completed"
    },
    "tags": []
   },
   "outputs": [],
   "source": [
    "models = {\n",
    "    'xgboost' : XGBClassifier(),\n",
    "    'catboost' : CatBoostClassifier(verbose=0),\n",
    "    'lightgbm' : LGBMClassifier(),\n",
    "    'gradient boosing' : GradientBoostingClassifier(),\n",
    "    'random forest' : RandomForestClassifier(),\n",
    "    'logistic regression': LogisticRegression(),\n",
    "    'naive bayes': GaussianNB(),\n",
    "}"
   ]
  },
  {
   "cell_type": "code",
   "execution_count": 32,
   "id": "32882892",
   "metadata": {
    "execution": {
     "iopub.execute_input": "2022-09-03T05:08:28.151411Z",
     "iopub.status.busy": "2022-09-03T05:08:28.150829Z",
     "iopub.status.idle": "2022-09-03T05:08:28.155177Z",
     "shell.execute_reply": "2022-09-03T05:08:28.154198Z"
    },
    "papermill": {
     "duration": 0.028739,
     "end_time": "2022-09-03T05:08:28.157294",
     "exception": false,
     "start_time": "2022-09-03T05:08:28.128555",
     "status": "completed"
    },
    "tags": []
   },
   "outputs": [],
   "source": [
    "target = target.astype(int)"
   ]
  },
  {
   "cell_type": "code",
   "execution_count": 33,
   "id": "c3763be0",
   "metadata": {
    "execution": {
     "iopub.execute_input": "2022-09-03T05:08:28.199976Z",
     "iopub.status.busy": "2022-09-03T05:08:28.199583Z",
     "iopub.status.idle": "2022-09-03T05:08:30.177338Z",
     "shell.execute_reply": "2022-09-03T05:08:30.175524Z"
    },
    "papermill": {
     "duration": 2.003416,
     "end_time": "2022-09-03T05:08:30.181115",
     "exception": false,
     "start_time": "2022-09-03T05:08:28.177699",
     "status": "completed"
    },
    "tags": []
   },
   "outputs": [
    {
     "name": "stdout",
     "output_type": "stream",
     "text": [
      "xgboost trained\n",
      "catboost trained\n",
      "lightgbm trained\n",
      "gradient boosing trained\n",
      "random forest trained\n",
      "logistic regression trained\n",
      "naive bayes trained\n"
     ]
    }
   ],
   "source": [
    "for name, model in models.items():\n",
    "    model.fit(train_final, target)\n",
    "    print(f'{name} trained')"
   ]
  },
  {
   "cell_type": "markdown",
   "id": "0e5cc3f1",
   "metadata": {
    "papermill": {
     "duration": 0.02058,
     "end_time": "2022-09-03T05:08:30.223114",
     "exception": false,
     "start_time": "2022-09-03T05:08:30.202534",
     "status": "completed"
    },
    "tags": []
   },
   "source": [
    "## **Evaluation**"
   ]
  },
  {
   "cell_type": "code",
   "execution_count": 34,
   "id": "6b470bc2",
   "metadata": {
    "execution": {
     "iopub.execute_input": "2022-09-03T05:08:30.266327Z",
     "iopub.status.busy": "2022-09-03T05:08:30.265424Z",
     "iopub.status.idle": "2022-09-03T05:08:48.574498Z",
     "shell.execute_reply": "2022-09-03T05:08:48.573266Z"
    },
    "papermill": {
     "duration": 18.334273,
     "end_time": "2022-09-03T05:08:48.577905",
     "exception": false,
     "start_time": "2022-09-03T05:08:30.243632",
     "status": "completed"
    },
    "tags": []
   },
   "outputs": [],
   "source": [
    "results = {}\n",
    "\n",
    "kf = KFold(n_splits= 10)\n",
    "\n",
    "for name, model in models.items():\n",
    "    result = cross_val_score(model, train_final, target, scoring = 'roc_auc', cv= kf)\n",
    "    results[name] = np.mean(result)"
   ]
  },
  {
   "cell_type": "code",
   "execution_count": 35,
   "id": "dc77ac88",
   "metadata": {
    "execution": {
     "iopub.execute_input": "2022-09-03T05:08:48.622293Z",
     "iopub.status.busy": "2022-09-03T05:08:48.621470Z",
     "iopub.status.idle": "2022-09-03T05:08:48.627819Z",
     "shell.execute_reply": "2022-09-03T05:08:48.626922Z"
    },
    "papermill": {
     "duration": 0.031378,
     "end_time": "2022-09-03T05:08:48.630515",
     "exception": false,
     "start_time": "2022-09-03T05:08:48.599137",
     "status": "completed"
    },
    "tags": []
   },
   "outputs": [
    {
     "name": "stdout",
     "output_type": "stream",
     "text": [
      "-------\n",
      "xgboost\n",
      "ROC score: 0.863\n",
      "-------\n",
      "catboost\n",
      "ROC score: 0.871\n",
      "-------\n",
      "lightgbm\n",
      "ROC score: 0.868\n",
      "-------\n",
      "gradient boosing\n",
      "ROC score: 0.869\n",
      "-------\n",
      "random forest\n",
      "ROC score: 0.864\n",
      "-------\n",
      "logistic regression\n",
      "ROC score: 0.843\n",
      "-------\n",
      "naive bayes\n",
      "ROC score: 0.815\n"
     ]
    }
   ],
   "source": [
    "for name, result in results.items():\n",
    "    print(\"-------\\n\" + name)\n",
    "    print(f'ROC score: {round(result, 3)}')"
   ]
  },
  {
   "cell_type": "code",
   "execution_count": 36,
   "id": "66ed15da",
   "metadata": {
    "execution": {
     "iopub.execute_input": "2022-09-03T05:08:48.674690Z",
     "iopub.status.busy": "2022-09-03T05:08:48.673920Z",
     "iopub.status.idle": "2022-09-03T05:08:48.687909Z",
     "shell.execute_reply": "2022-09-03T05:08:48.686633Z"
    },
    "papermill": {
     "duration": 0.038781,
     "end_time": "2022-09-03T05:08:48.690256",
     "exception": false,
     "start_time": "2022-09-03T05:08:48.651475",
     "status": "completed"
    },
    "tags": []
   },
   "outputs": [
    {
     "data": {
      "text/html": [
       "<div>\n",
       "<style scoped>\n",
       "    .dataframe tbody tr th:only-of-type {\n",
       "        vertical-align: middle;\n",
       "    }\n",
       "\n",
       "    .dataframe tbody tr th {\n",
       "        vertical-align: top;\n",
       "    }\n",
       "\n",
       "    .dataframe thead th {\n",
       "        text-align: right;\n",
       "    }\n",
       "</style>\n",
       "<table border=\"1\" class=\"dataframe\">\n",
       "  <thead>\n",
       "    <tr style=\"text-align: right;\">\n",
       "      <th></th>\n",
       "      <th>ROC Score</th>\n",
       "    </tr>\n",
       "  </thead>\n",
       "  <tbody>\n",
       "    <tr>\n",
       "      <th>catboost</th>\n",
       "      <td>0.870660</td>\n",
       "    </tr>\n",
       "    <tr>\n",
       "      <th>gradient boosing</th>\n",
       "      <td>0.868874</td>\n",
       "    </tr>\n",
       "    <tr>\n",
       "      <th>lightgbm</th>\n",
       "      <td>0.868494</td>\n",
       "    </tr>\n",
       "    <tr>\n",
       "      <th>random forest</th>\n",
       "      <td>0.864373</td>\n",
       "    </tr>\n",
       "    <tr>\n",
       "      <th>xgboost</th>\n",
       "      <td>0.862638</td>\n",
       "    </tr>\n",
       "    <tr>\n",
       "      <th>logistic regression</th>\n",
       "      <td>0.843001</td>\n",
       "    </tr>\n",
       "    <tr>\n",
       "      <th>naive bayes</th>\n",
       "      <td>0.814649</td>\n",
       "    </tr>\n",
       "  </tbody>\n",
       "</table>\n",
       "</div>"
      ],
      "text/plain": [
       "                     ROC Score\n",
       "catboost              0.870660\n",
       "gradient boosing      0.868874\n",
       "lightgbm              0.868494\n",
       "random forest         0.864373\n",
       "xgboost               0.862638\n",
       "logistic regression   0.843001\n",
       "naive bayes           0.814649"
      ]
     },
     "execution_count": 36,
     "metadata": {},
     "output_type": "execute_result"
    }
   ],
   "source": [
    "results_df = pd.DataFrame(results, index=range(0,1)).T.rename(columns={0: 'ROC Score'}).sort_values('ROC Score', ascending=False)\n",
    "results_df"
   ]
  },
  {
   "cell_type": "code",
   "execution_count": 37,
   "id": "d20c8072",
   "metadata": {
    "execution": {
     "iopub.execute_input": "2022-09-03T05:08:48.735544Z",
     "iopub.status.busy": "2022-09-03T05:08:48.734407Z",
     "iopub.status.idle": "2022-09-03T05:08:48.994450Z",
     "shell.execute_reply": "2022-09-03T05:08:48.993227Z"
    },
    "papermill": {
     "duration": 0.285539,
     "end_time": "2022-09-03T05:08:48.997262",
     "exception": false,
     "start_time": "2022-09-03T05:08:48.711723",
     "status": "completed"
    },
    "tags": []
   },
   "outputs": [
    {
     "data": {
      "image/png": "[encoded data removed]",
      "text/plain": [
       "<Figure size 1080x432 with 1 Axes>"
      ]
     },
     "metadata": {},
     "output_type": "display_data"
    }
   ],
   "source": [
    "plt.figure(figsize = (15, 6))\n",
    "sns.barplot(x= results_df.index, y = results_df['ROC Score'], palette = 'summer')\n",
    "plt.xlabel('Model')\n",
    "plt.ylabel('ROC Score')\n",
    "plt.title('ROC Score of different models');"
   ]
  },
  {
   "cell_type": "markdown",
   "id": "cd23f345",
   "metadata": {
    "papermill": {
     "duration": 0.021586,
     "end_time": "2022-09-03T05:08:49.040818",
     "exception": false,
     "start_time": "2022-09-03T05:08:49.019232",
     "status": "completed"
    },
    "tags": []
   },
   "source": [
    "#### Clearly, catboost had the best ROC Score, lets do some hyperparameter optimization and make the final predictions based on it"
   ]
  },
  {
   "cell_type": "markdown",
   "id": "cd5e8a60",
   "metadata": {
    "papermill": {
     "duration": 0.021518,
     "end_time": "2022-09-03T05:08:49.084156",
     "exception": false,
     "start_time": "2022-09-03T05:08:49.062638",
     "status": "completed"
    },
    "tags": []
   },
   "source": [
    "## **Hyperparamer Optimization**"
   ]
  },
  {
   "cell_type": "code",
   "execution_count": 38,
   "id": "e4edaed9",
   "metadata": {
    "_kg_hide-output": true,
    "execution": {
     "iopub.execute_input": "2022-09-03T05:08:49.130471Z",
     "iopub.status.busy": "2022-09-03T05:08:49.129502Z",
     "iopub.status.idle": "2022-09-03T05:08:49.135361Z",
     "shell.execute_reply": "2022-09-03T05:08:49.134181Z"
    },
    "papermill": {
     "duration": 0.031885,
     "end_time": "2022-09-03T05:08:49.137837",
     "exception": false,
     "start_time": "2022-09-03T05:08:49.105952",
     "status": "completed"
    },
    "tags": []
   },
   "outputs": [],
   "source": [
    "# def catboost_objective(trial):\n",
    "#     learning_rate = trial.suggest_float('learning_rate', 0, 0.5)\n",
    "#     depth = trial.suggest_int('depth', 3, 10)\n",
    "#     n_estimators = trial.suggest_int('n_estimators', 50, 600)\n",
    "    \n",
    "#     model = CatBoostClassifier(\n",
    "#         learning_rate= learning_rate,\n",
    "#         depth= depth,\n",
    "#         n_estimators= n_estimators,\n",
    "#         verbose= 0\n",
    "#     )\n",
    "\n",
    "#     model.fit(train_final, target)\n",
    "#     cv_score = cross_val_score(model, train_final, target, scoring= 'roc_auc', cv= kf)\n",
    "\n",
    "#     return np.mean(cv_score)\n",
    "\n",
    "# study = optuna.create_study(direction= 'maximize')\n",
    "# study.optimize(catboost_objective, n_trials= 100)"
   ]
  },
  {
   "cell_type": "code",
   "execution_count": 39,
   "id": "8b031c0f",
   "metadata": {
    "execution": {
     "iopub.execute_input": "2022-09-03T05:08:49.183515Z",
     "iopub.status.busy": "2022-09-03T05:08:49.182366Z",
     "iopub.status.idle": "2022-09-03T05:08:49.188209Z",
     "shell.execute_reply": "2022-09-03T05:08:49.187199Z"
    },
    "papermill": {
     "duration": 0.03098,
     "end_time": "2022-09-03T05:08:49.190537",
     "exception": false,
     "start_time": "2022-09-03T05:08:49.159557",
     "status": "completed"
    },
    "tags": []
   },
   "outputs": [],
   "source": [
    "catboost_params = {\n",
    "    'learning_rate': 0.1682046368673911, \n",
    "     'depth': 6, \n",
    "     'n_estimators': 540,\n",
    "     'verbose':0\n",
    "}"
   ]
  },
  {
   "cell_type": "code",
   "execution_count": 40,
   "id": "7807c85a",
   "metadata": {
    "execution": {
     "iopub.execute_input": "2022-09-03T05:08:49.245253Z",
     "iopub.status.busy": "2022-09-03T05:08:49.244663Z",
     "iopub.status.idle": "2022-09-03T05:08:49.844330Z",
     "shell.execute_reply": "2022-09-03T05:08:49.843316Z"
    },
    "papermill": {
     "duration": 0.629654,
     "end_time": "2022-09-03T05:08:49.847002",
     "exception": false,
     "start_time": "2022-09-03T05:08:49.217348",
     "status": "completed"
    },
    "tags": []
   },
   "outputs": [],
   "source": [
    "cb = CatBoostClassifier(**catboost_params)\n",
    "cb.fit(train_final, target)\n",
    "pred_cb = cb.predict(test_final)"
   ]
  },
  {
   "cell_type": "markdown",
   "id": "4970845e",
   "metadata": {
    "papermill": {
     "duration": 0.021322,
     "end_time": "2022-09-03T05:08:49.890262",
     "exception": false,
     "start_time": "2022-09-03T05:08:49.868940",
     "status": "completed"
    },
    "tags": []
   },
   "source": [
    "## **ANN**"
   ]
  },
  {
   "cell_type": "code",
   "execution_count": 41,
   "id": "df62d4f1",
   "metadata": {
    "execution": {
     "iopub.execute_input": "2022-09-03T05:08:49.935738Z",
     "iopub.status.busy": "2022-09-03T05:08:49.934934Z",
     "iopub.status.idle": "2022-09-03T05:08:49.943996Z",
     "shell.execute_reply": "2022-09-03T05:08:49.943004Z"
    },
    "papermill": {
     "duration": 0.034442,
     "end_time": "2022-09-03T05:08:49.946172",
     "exception": false,
     "start_time": "2022-09-03T05:08:49.911730",
     "status": "completed"
    },
    "tags": []
   },
   "outputs": [
    {
     "data": {
      "text/plain": [
       "(891, 9)"
      ]
     },
     "execution_count": 41,
     "metadata": {},
     "output_type": "execute_result"
    }
   ],
   "source": [
    "train_final.shape"
   ]
  },
  {
   "cell_type": "code",
   "execution_count": 42,
   "id": "9d6e5a6e",
   "metadata": {
    "execution": {
     "iopub.execute_input": "2022-09-03T05:08:49.990984Z",
     "iopub.status.busy": "2022-09-03T05:08:49.990552Z",
     "iopub.status.idle": "2022-09-03T05:08:49.999102Z",
     "shell.execute_reply": "2022-09-03T05:08:49.998026Z"
    },
    "papermill": {
     "duration": 0.033957,
     "end_time": "2022-09-03T05:08:50.001545",
     "exception": false,
     "start_time": "2022-09-03T05:08:49.967588",
     "status": "completed"
    },
    "tags": []
   },
   "outputs": [],
   "source": [
    "train_final = np.asarray(train_final).astype(np.float32)\n",
    "test_final = np.asarray(test_final).astype(np.float32)\n",
    "target = np.asarray(target).astype(np.float32)"
   ]
  },
  {
   "cell_type": "code",
   "execution_count": 43,
   "id": "10d088d7",
   "metadata": {
    "_kg_hide-output": true,
    "execution": {
     "iopub.execute_input": "2022-09-03T05:08:50.046626Z",
     "iopub.status.busy": "2022-09-03T05:08:50.046220Z",
     "iopub.status.idle": "2022-09-03T05:09:03.107888Z",
     "shell.execute_reply": "2022-09-03T05:09:03.106977Z"
    },
    "papermill": {
     "duration": 13.08702,
     "end_time": "2022-09-03T05:09:03.110338",
     "exception": false,
     "start_time": "2022-09-03T05:08:50.023318",
     "status": "completed"
    },
    "tags": []
   },
   "outputs": [
    {
     "name": "stderr",
     "output_type": "stream",
     "text": [
      "2022-09-03 05:08:51.337047: I tensorflow/core/common_runtime/process_util.cc:146] Creating new thread pool with default inter op setting: 2. Tune using inter_op_parallelism_threads for best performance.\n",
      "2022-09-03 05:08:51.514500: I tensorflow/compiler/mlir/mlir_graph_optimization_pass.cc:185] None of the MLIR Optimization Passes are enabled (registered 2)\n"
     ]
    },
    {
     "name": "stdout",
     "output_type": "stream",
     "text": [
      "Epoch 1/100\n",
      "23/23 [==============================] - 1s 19ms/step - loss: 0.7545 - auc: 0.3435 - val_loss: 0.7405 - val_auc: 0.3586\n",
      "Epoch 2/100\n",
      "23/23 [==============================] - 0s 4ms/step - loss: 0.7124 - auc: 0.4534 - val_loss: 0.6967 - val_auc: 0.5352\n",
      "Epoch 3/100\n",
      "23/23 [==============================] - 0s 4ms/step - loss: 0.6799 - auc: 0.6195 - val_loss: 0.6599 - val_auc: 0.7029\n",
      "Epoch 4/100\n",
      "23/23 [==============================] - 0s 4ms/step - loss: 0.6537 - auc: 0.7433 - val_loss: 0.6318 - val_auc: 0.7886\n",
      "Epoch 5/100\n",
      "23/23 [==============================] - 0s 4ms/step - loss: 0.6317 - auc: 0.7993 - val_loss: 0.6056 - val_auc: 0.8325\n",
      "Epoch 6/100\n",
      "23/23 [==============================] - 0s 4ms/step - loss: 0.6127 - auc: 0.8169 - val_loss: 0.5826 - val_auc: 0.8577\n",
      "Epoch 7/100\n",
      "23/23 [==============================] - 0s 4ms/step - loss: 0.5959 - auc: 0.8239 - val_loss: 0.5616 - val_auc: 0.8610\n",
      "Epoch 8/100\n",
      "23/23 [==============================] - 0s 4ms/step - loss: 0.5814 - auc: 0.8233 - val_loss: 0.5429 - val_auc: 0.8658\n",
      "Epoch 9/100\n",
      "23/23 [==============================] - 0s 4ms/step - loss: 0.5673 - auc: 0.8279 - val_loss: 0.5271 - val_auc: 0.8690\n",
      "Epoch 10/100\n",
      "23/23 [==============================] - 0s 4ms/step - loss: 0.5552 - auc: 0.8306 - val_loss: 0.5131 - val_auc: 0.8700\n",
      "Epoch 11/100\n",
      "23/23 [==============================] - 0s 4ms/step - loss: 0.5449 - auc: 0.8280 - val_loss: 0.4994 - val_auc: 0.8719\n",
      "Epoch 12/100\n",
      "23/23 [==============================] - 0s 4ms/step - loss: 0.5349 - auc: 0.8299 - val_loss: 0.4884 - val_auc: 0.8730\n",
      "Epoch 13/100\n",
      "23/23 [==============================] - 0s 5ms/step - loss: 0.5261 - auc: 0.8297 - val_loss: 0.4787 - val_auc: 0.8750\n",
      "Epoch 14/100\n",
      "23/23 [==============================] - 0s 4ms/step - loss: 0.5183 - auc: 0.8333 - val_loss: 0.4690 - val_auc: 0.8739\n",
      "Epoch 15/100\n",
      "23/23 [==============================] - 0s 4ms/step - loss: 0.5113 - auc: 0.8302 - val_loss: 0.4609 - val_auc: 0.8728\n",
      "Epoch 16/100\n",
      "23/23 [==============================] - 0s 4ms/step - loss: 0.5050 - auc: 0.8315 - val_loss: 0.4542 - val_auc: 0.8730\n",
      "Epoch 17/100\n",
      "23/23 [==============================] - 0s 4ms/step - loss: 0.5000 - auc: 0.8331 - val_loss: 0.4493 - val_auc: 0.8715\n",
      "Epoch 18/100\n",
      "23/23 [==============================] - 0s 4ms/step - loss: 0.4956 - auc: 0.8325 - val_loss: 0.4431 - val_auc: 0.8730\n",
      "Epoch 19/100\n",
      "23/23 [==============================] - 0s 4ms/step - loss: 0.4920 - auc: 0.8334 - val_loss: 0.4383 - val_auc: 0.8732\n",
      "Epoch 20/100\n",
      "23/23 [==============================] - 0s 4ms/step - loss: 0.4876 - auc: 0.8344 - val_loss: 0.4340 - val_auc: 0.8749\n",
      "Epoch 21/100\n",
      "23/23 [==============================] - 0s 4ms/step - loss: 0.4849 - auc: 0.8361 - val_loss: 0.4313 - val_auc: 0.8742\n",
      "Epoch 22/100\n",
      "23/23 [==============================] - 0s 4ms/step - loss: 0.4820 - auc: 0.8360 - val_loss: 0.4277 - val_auc: 0.8743\n",
      "Epoch 23/100\n",
      "23/23 [==============================] - 0s 4ms/step - loss: 0.4792 - auc: 0.8359 - val_loss: 0.4246 - val_auc: 0.8713\n",
      "Epoch 24/100\n",
      "23/23 [==============================] - 0s 4ms/step - loss: 0.4774 - auc: 0.8378 - val_loss: 0.4231 - val_auc: 0.8750\n",
      "Epoch 25/100\n",
      "23/23 [==============================] - 0s 4ms/step - loss: 0.4751 - auc: 0.8400 - val_loss: 0.4210 - val_auc: 0.8737\n",
      "Epoch 26/100\n",
      "23/23 [==============================] - 0s 4ms/step - loss: 0.4730 - auc: 0.8384 - val_loss: 0.4189 - val_auc: 0.8757\n",
      "Epoch 27/100\n",
      "23/23 [==============================] - 0s 4ms/step - loss: 0.4714 - auc: 0.8401 - val_loss: 0.4178 - val_auc: 0.8762\n",
      "Epoch 28/100\n",
      "23/23 [==============================] - 0s 4ms/step - loss: 0.4690 - auc: 0.8435 - val_loss: 0.4155 - val_auc: 0.8740\n",
      "Epoch 29/100\n",
      "23/23 [==============================] - 0s 4ms/step - loss: 0.4670 - auc: 0.8434 - val_loss: 0.4142 - val_auc: 0.8735\n",
      "Epoch 30/100\n",
      "23/23 [==============================] - 0s 4ms/step - loss: 0.4657 - auc: 0.8439 - val_loss: 0.4128 - val_auc: 0.8760\n",
      "Epoch 31/100\n",
      "23/23 [==============================] - 0s 4ms/step - loss: 0.4651 - auc: 0.8441 - val_loss: 0.4120 - val_auc: 0.8763\n",
      "Epoch 32/100\n",
      "23/23 [==============================] - 0s 4ms/step - loss: 0.4627 - auc: 0.8463 - val_loss: 0.4103 - val_auc: 0.8808\n",
      "Epoch 33/100\n",
      "23/23 [==============================] - 0s 4ms/step - loss: 0.4611 - auc: 0.8472 - val_loss: 0.4092 - val_auc: 0.8768\n",
      "Epoch 34/100\n",
      "23/23 [==============================] - 0s 4ms/step - loss: 0.4599 - auc: 0.8472 - val_loss: 0.4078 - val_auc: 0.8818\n",
      "Epoch 35/100\n",
      "23/23 [==============================] - 0s 4ms/step - loss: 0.4587 - auc: 0.8508 - val_loss: 0.4068 - val_auc: 0.8759\n",
      "Epoch 36/100\n",
      "23/23 [==============================] - 0s 4ms/step - loss: 0.4569 - auc: 0.8523 - val_loss: 0.4053 - val_auc: 0.8781\n",
      "Epoch 37/100\n",
      "23/23 [==============================] - 0s 4ms/step - loss: 0.4558 - auc: 0.8529 - val_loss: 0.4047 - val_auc: 0.8743\n",
      "Epoch 38/100\n",
      "23/23 [==============================] - 0s 4ms/step - loss: 0.4553 - auc: 0.8519 - val_loss: 0.4037 - val_auc: 0.8795\n",
      "Epoch 39/100\n",
      "23/23 [==============================] - 0s 5ms/step - loss: 0.4533 - auc: 0.8537 - val_loss: 0.4043 - val_auc: 0.8762\n",
      "Epoch 40/100\n",
      "23/23 [==============================] - 0s 4ms/step - loss: 0.4527 - auc: 0.8540 - val_loss: 0.4036 - val_auc: 0.8754\n",
      "Epoch 41/100\n",
      "23/23 [==============================] - 0s 4ms/step - loss: 0.4513 - auc: 0.8538 - val_loss: 0.4014 - val_auc: 0.8743\n",
      "Epoch 42/100\n",
      "23/23 [==============================] - 0s 4ms/step - loss: 0.4498 - auc: 0.8565 - val_loss: 0.4011 - val_auc: 0.8800\n",
      "Epoch 43/100\n",
      "23/23 [==============================] - 0s 4ms/step - loss: 0.4487 - auc: 0.8578 - val_loss: 0.3997 - val_auc: 0.8762\n",
      "Epoch 44/100\n",
      "23/23 [==============================] - 0s 4ms/step - loss: 0.4477 - auc: 0.8564 - val_loss: 0.3990 - val_auc: 0.8782\n",
      "Epoch 45/100\n",
      "23/23 [==============================] - 0s 4ms/step - loss: 0.4472 - auc: 0.8569 - val_loss: 0.3984 - val_auc: 0.8781\n",
      "Epoch 46/100\n",
      "23/23 [==============================] - 0s 4ms/step - loss: 0.4456 - auc: 0.8587 - val_loss: 0.3972 - val_auc: 0.8777\n",
      "Epoch 47/100\n",
      "23/23 [==============================] - 0s 4ms/step - loss: 0.4448 - auc: 0.8596 - val_loss: 0.3969 - val_auc: 0.8765\n",
      "Epoch 48/100\n",
      "23/23 [==============================] - 0s 4ms/step - loss: 0.4440 - auc: 0.8601 - val_loss: 0.3955 - val_auc: 0.8815\n",
      "Epoch 49/100\n",
      "23/23 [==============================] - 0s 4ms/step - loss: 0.4428 - auc: 0.8603 - val_loss: 0.3950 - val_auc: 0.8770\n",
      "Epoch 50/100\n",
      "23/23 [==============================] - 0s 4ms/step - loss: 0.4416 - auc: 0.8600 - val_loss: 0.3946 - val_auc: 0.8764\n",
      "Epoch 51/100\n",
      "23/23 [==============================] - 0s 4ms/step - loss: 0.4411 - auc: 0.8581 - val_loss: 0.3952 - val_auc: 0.8773\n",
      "Epoch 52/100\n",
      "23/23 [==============================] - 0s 4ms/step - loss: 0.4406 - auc: 0.8606 - val_loss: 0.3939 - val_auc: 0.8791\n",
      "Epoch 53/100\n",
      "23/23 [==============================] - 0s 4ms/step - loss: 0.4387 - auc: 0.8627 - val_loss: 0.3944 - val_auc: 0.8793\n",
      "Epoch 54/100\n",
      "23/23 [==============================] - 0s 4ms/step - loss: 0.4385 - auc: 0.8620 - val_loss: 0.3931 - val_auc: 0.8818\n",
      "Epoch 55/100\n",
      "23/23 [==============================] - 0s 4ms/step - loss: 0.4371 - auc: 0.8643 - val_loss: 0.3922 - val_auc: 0.8840\n",
      "Epoch 56/100\n",
      "23/23 [==============================] - 0s 4ms/step - loss: 0.4364 - auc: 0.8628 - val_loss: 0.3908 - val_auc: 0.8768\n",
      "Epoch 57/100\n",
      "23/23 [==============================] - 0s 4ms/step - loss: 0.4356 - auc: 0.8635 - val_loss: 0.3913 - val_auc: 0.8827\n",
      "Epoch 58/100\n",
      "23/23 [==============================] - 0s 4ms/step - loss: 0.4348 - auc: 0.8658 - val_loss: 0.3905 - val_auc: 0.8803\n",
      "Epoch 59/100\n",
      "23/23 [==============================] - 0s 4ms/step - loss: 0.4340 - auc: 0.8647 - val_loss: 0.3897 - val_auc: 0.8783\n",
      "Epoch 60/100\n",
      "23/23 [==============================] - 0s 4ms/step - loss: 0.4342 - auc: 0.8645 - val_loss: 0.3900 - val_auc: 0.8840\n",
      "Epoch 61/100\n",
      "23/23 [==============================] - 0s 4ms/step - loss: 0.4325 - auc: 0.8659 - val_loss: 0.3902 - val_auc: 0.8794\n",
      "Epoch 62/100\n",
      "23/23 [==============================] - 0s 4ms/step - loss: 0.4322 - auc: 0.8659 - val_loss: 0.3892 - val_auc: 0.8859\n",
      "Epoch 63/100\n",
      "23/23 [==============================] - 0s 4ms/step - loss: 0.4312 - auc: 0.8674 - val_loss: 0.3900 - val_auc: 0.8817\n",
      "Epoch 64/100\n",
      "23/23 [==============================] - 0s 4ms/step - loss: 0.4303 - auc: 0.8680 - val_loss: 0.3883 - val_auc: 0.8843\n",
      "Epoch 65/100\n",
      "23/23 [==============================] - 0s 5ms/step - loss: 0.4300 - auc: 0.8692 - val_loss: 0.3874 - val_auc: 0.8814\n",
      "Epoch 66/100\n",
      "23/23 [==============================] - 0s 4ms/step - loss: 0.4295 - auc: 0.8670 - val_loss: 0.3870 - val_auc: 0.8831\n",
      "Epoch 67/100\n",
      "23/23 [==============================] - 0s 4ms/step - loss: 0.4295 - auc: 0.8668 - val_loss: 0.3888 - val_auc: 0.8816\n",
      "Epoch 68/100\n",
      "23/23 [==============================] - 0s 4ms/step - loss: 0.4282 - auc: 0.8693 - val_loss: 0.3875 - val_auc: 0.8876\n",
      "Epoch 69/100\n",
      "23/23 [==============================] - 0s 4ms/step - loss: 0.4275 - auc: 0.8691 - val_loss: 0.3868 - val_auc: 0.8823\n",
      "Epoch 70/100\n",
      "23/23 [==============================] - 0s 4ms/step - loss: 0.4272 - auc: 0.8700 - val_loss: 0.3884 - val_auc: 0.8870\n",
      "Epoch 71/100\n",
      "23/23 [==============================] - 0s 4ms/step - loss: 0.4264 - auc: 0.8705 - val_loss: 0.3866 - val_auc: 0.8817\n",
      "Epoch 72/100\n",
      "23/23 [==============================] - 0s 4ms/step - loss: 0.4260 - auc: 0.8693 - val_loss: 0.3866 - val_auc: 0.8859\n",
      "Epoch 73/100\n",
      "23/23 [==============================] - 0s 4ms/step - loss: 0.4253 - auc: 0.8705 - val_loss: 0.3867 - val_auc: 0.8858\n",
      "Epoch 74/100\n",
      "23/23 [==============================] - 0s 4ms/step - loss: 0.4250 - auc: 0.8694 - val_loss: 0.3870 - val_auc: 0.8880\n",
      "Epoch 75/100\n",
      "23/23 [==============================] - 0s 6ms/step - loss: 0.4249 - auc: 0.8680 - val_loss: 0.3851 - val_auc: 0.8876\n",
      "Epoch 76/100\n",
      "23/23 [==============================] - 0s 5ms/step - loss: 0.4236 - auc: 0.8710 - val_loss: 0.3877 - val_auc: 0.8854\n",
      "Epoch 77/100\n",
      "23/23 [==============================] - 0s 4ms/step - loss: 0.4236 - auc: 0.8697 - val_loss: 0.3860 - val_auc: 0.8840\n",
      "Epoch 78/100\n",
      "23/23 [==============================] - 0s 4ms/step - loss: 0.4228 - auc: 0.8727 - val_loss: 0.3858 - val_auc: 0.8835\n",
      "Epoch 79/100\n",
      "23/23 [==============================] - 0s 4ms/step - loss: 0.4225 - auc: 0.8711 - val_loss: 0.3845 - val_auc: 0.8871\n",
      "Epoch 80/100\n",
      "23/23 [==============================] - 0s 4ms/step - loss: 0.4223 - auc: 0.8709 - val_loss: 0.3843 - val_auc: 0.8865\n",
      "Epoch 81/100\n",
      "23/23 [==============================] - 0s 4ms/step - loss: 0.4212 - auc: 0.8723 - val_loss: 0.3855 - val_auc: 0.8851\n",
      "Epoch 82/100\n",
      "23/23 [==============================] - 0s 5ms/step - loss: 0.4213 - auc: 0.8725 - val_loss: 0.3859 - val_auc: 0.8884\n",
      "Epoch 83/100\n",
      "23/23 [==============================] - 0s 4ms/step - loss: 0.4204 - auc: 0.8733 - val_loss: 0.3844 - val_auc: 0.8869\n",
      "Epoch 84/100\n",
      "23/23 [==============================] - 0s 4ms/step - loss: 0.4206 - auc: 0.8724 - val_loss: 0.3833 - val_auc: 0.8870\n",
      "Epoch 85/100\n",
      "23/23 [==============================] - 0s 4ms/step - loss: 0.4202 - auc: 0.8729 - val_loss: 0.3829 - val_auc: 0.8891\n",
      "Epoch 86/100\n",
      "23/23 [==============================] - 0s 4ms/step - loss: 0.4195 - auc: 0.8727 - val_loss: 0.3816 - val_auc: 0.8866\n",
      "Epoch 87/100\n",
      "23/23 [==============================] - 0s 4ms/step - loss: 0.4189 - auc: 0.8721 - val_loss: 0.3827 - val_auc: 0.8873\n",
      "Epoch 88/100\n",
      "23/23 [==============================] - 0s 4ms/step - loss: 0.4184 - auc: 0.8730 - val_loss: 0.3823 - val_auc: 0.8889\n",
      "Epoch 89/100\n",
      "23/23 [==============================] - 0s 4ms/step - loss: 0.4183 - auc: 0.8728 - val_loss: 0.3810 - val_auc: 0.8870\n",
      "Epoch 90/100\n",
      "23/23 [==============================] - 0s 4ms/step - loss: 0.4177 - auc: 0.8736 - val_loss: 0.3818 - val_auc: 0.8891\n",
      "Epoch 91/100\n",
      "23/23 [==============================] - 0s 4ms/step - loss: 0.4177 - auc: 0.8720 - val_loss: 0.3832 - val_auc: 0.8869\n",
      "Epoch 92/100\n",
      "23/23 [==============================] - 0s 4ms/step - loss: 0.4172 - auc: 0.8737 - val_loss: 0.3808 - val_auc: 0.8887\n",
      "Epoch 93/100\n",
      "23/23 [==============================] - 0s 4ms/step - loss: 0.4166 - auc: 0.8739 - val_loss: 0.3825 - val_auc: 0.8895\n",
      "Epoch 94/100\n",
      "23/23 [==============================] - 0s 4ms/step - loss: 0.4163 - auc: 0.8741 - val_loss: 0.3810 - val_auc: 0.8876\n",
      "Epoch 95/100\n",
      "23/23 [==============================] - 0s 4ms/step - loss: 0.4156 - auc: 0.8748 - val_loss: 0.3819 - val_auc: 0.8891\n",
      "Epoch 96/100\n",
      "23/23 [==============================] - 0s 5ms/step - loss: 0.4156 - auc: 0.8743 - val_loss: 0.3832 - val_auc: 0.8878\n",
      "Epoch 97/100\n",
      "23/23 [==============================] - 0s 6ms/step - loss: 0.4162 - auc: 0.8727 - val_loss: 0.3803 - val_auc: 0.8884\n",
      "Epoch 98/100\n",
      "23/23 [==============================] - 0s 9ms/step - loss: 0.4149 - auc: 0.8757 - val_loss: 0.3822 - val_auc: 0.8899\n",
      "Epoch 99/100\n",
      "23/23 [==============================] - 0s 5ms/step - loss: 0.4143 - auc: 0.8748 - val_loss: 0.3842 - val_auc: 0.8910\n",
      "Epoch 100/100\n",
      "23/23 [==============================] - 0s 11ms/step - loss: 0.4140 - auc: 0.8756 - val_loss: 0.3830 - val_auc: 0.8890\n"
     ]
    }
   ],
   "source": [
    "model = tf.keras.Sequential([\n",
    "    tf.keras.Input(9),\n",
    "    tf.keras.layers.Dense(100, activation = 'relu'),\n",
    "    tf.keras.layers.Dense(100, activation = 'relu'),\n",
    "    tf.keras.layers.Dense(1, activation = 'sigmoid')\n",
    "])\n",
    "\n",
    "model.compile(\n",
    "    optimizer = tf.keras.optimizers.Adam(learning_rate = 0.0001),\n",
    "    loss = 'binary_crossentropy',\n",
    "    metrics = [tf.keras.metrics.AUC(name='auc')]\n",
    ")\n",
    "\n",
    "EPOCHS = 100\n",
    "\n",
    "history = model.fit(train_final, target, validation_split = 0.20, epochs = EPOCHS)"
   ]
  },
  {
   "cell_type": "code",
   "execution_count": 44,
   "id": "421f82d9",
   "metadata": {
    "execution": {
     "iopub.execute_input": "2022-09-03T05:09:03.192646Z",
     "iopub.status.busy": "2022-09-03T05:09:03.191285Z",
     "iopub.status.idle": "2022-09-03T05:09:03.474583Z",
     "shell.execute_reply": "2022-09-03T05:09:03.473448Z"
    },
    "papermill": {
     "duration": 0.326975,
     "end_time": "2022-09-03T05:09:03.477696",
     "exception": false,
     "start_time": "2022-09-03T05:09:03.150721",
     "status": "completed"
    },
    "tags": []
   },
   "outputs": [
    {
     "data": {
      "image/png": "[encoded data removed]",
      "text/plain": [
       "<Figure size 720x432 with 1 Axes>"
      ]
     },
     "metadata": {},
     "output_type": "display_data"
    }
   ],
   "source": [
    "plt.figure(figsize=(10, 6))\n",
    "\n",
    "epochs = range(1, EPOCHS + 1)\n",
    "train_loss = history.history['loss']\n",
    "val_loss = history.history['val_loss']\n",
    "\n",
    "plt.plot(epochs, train_loss, label=\"Training Loss\")\n",
    "plt.plot(epochs, val_loss, label=\"Validation Loss\")\n",
    "\n",
    "plt.title(\"Training and Validation Loss\")\n",
    "plt.xlabel(\"Epoch\")\n",
    "plt.ylabel(\"Loss\")\n",
    "plt.legend()\n",
    "\n",
    "plt.show()"
   ]
  },
  {
   "cell_type": "markdown",
   "id": "37a34388",
   "metadata": {
    "papermill": {
     "duration": 0.039305,
     "end_time": "2022-09-03T05:09:03.558545",
     "exception": false,
     "start_time": "2022-09-03T05:09:03.519240",
     "status": "completed"
    },
    "tags": []
   },
   "source": [
    "Clearly our ANN is doing a better job in classifying our target column"
   ]
  },
  {
   "cell_type": "code",
   "execution_count": 45,
   "id": "ae03c724",
   "metadata": {
    "execution": {
     "iopub.execute_input": "2022-09-03T05:09:03.640310Z",
     "iopub.status.busy": "2022-09-03T05:09:03.639200Z",
     "iopub.status.idle": "2022-09-03T05:09:03.789361Z",
     "shell.execute_reply": "2022-09-03T05:09:03.788162Z"
    },
    "papermill": {
     "duration": 0.194452,
     "end_time": "2022-09-03T05:09:03.792350",
     "exception": false,
     "start_time": "2022-09-03T05:09:03.597898",
     "status": "completed"
    },
    "tags": []
   },
   "outputs": [],
   "source": [
    "pred_ann = model.predict(test_final)"
   ]
  },
  {
   "cell_type": "code",
   "execution_count": 46,
   "id": "28730fad",
   "metadata": {
    "execution": {
     "iopub.execute_input": "2022-09-03T05:09:03.874247Z",
     "iopub.status.busy": "2022-09-03T05:09:03.873653Z",
     "iopub.status.idle": "2022-09-03T05:09:03.879063Z",
     "shell.execute_reply": "2022-09-03T05:09:03.878172Z"
    },
    "papermill": {
     "duration": 0.048583,
     "end_time": "2022-09-03T05:09:03.881236",
     "exception": false,
     "start_time": "2022-09-03T05:09:03.832653",
     "status": "completed"
    },
    "tags": []
   },
   "outputs": [],
   "source": [
    "submission = pd.DataFrame(test_ids, index= None)"
   ]
  },
  {
   "cell_type": "code",
   "execution_count": 47,
   "id": "32abefe2",
   "metadata": {
    "execution": {
     "iopub.execute_input": "2022-09-03T05:09:03.962918Z",
     "iopub.status.busy": "2022-09-03T05:09:03.962267Z",
     "iopub.status.idle": "2022-09-03T05:09:03.967172Z",
     "shell.execute_reply": "2022-09-03T05:09:03.966286Z"
    },
    "papermill": {
     "duration": 0.048092,
     "end_time": "2022-09-03T05:09:03.969284",
     "exception": false,
     "start_time": "2022-09-03T05:09:03.921192",
     "status": "completed"
    },
    "tags": []
   },
   "outputs": [],
   "source": [
    "submission['Survived'] = pred_ann"
   ]
  },
  {
   "cell_type": "code",
   "execution_count": 48,
   "id": "661d42b2",
   "metadata": {
    "execution": {
     "iopub.execute_input": "2022-09-03T05:09:04.050539Z",
     "iopub.status.busy": "2022-09-03T05:09:04.049949Z",
     "iopub.status.idle": "2022-09-03T05:09:04.055558Z",
     "shell.execute_reply": "2022-09-03T05:09:04.054742Z"
    },
    "papermill": {
     "duration": 0.048599,
     "end_time": "2022-09-03T05:09:04.057601",
     "exception": false,
     "start_time": "2022-09-03T05:09:04.009002",
     "status": "completed"
    },
    "tags": []
   },
   "outputs": [],
   "source": [
    "submission['Survived'] = submission['Survived'].apply(lambda x: 1 if x>0.5 else 0)"
   ]
  },
  {
   "cell_type": "code",
   "execution_count": 49,
   "id": "ea6a6bda",
   "metadata": {
    "execution": {
     "iopub.execute_input": "2022-09-03T05:09:04.139030Z",
     "iopub.status.busy": "2022-09-03T05:09:04.138384Z",
     "iopub.status.idle": "2022-09-03T05:09:04.147534Z",
     "shell.execute_reply": "2022-09-03T05:09:04.146471Z"
    },
    "papermill": {
     "duration": 0.05274,
     "end_time": "2022-09-03T05:09:04.149858",
     "exception": false,
     "start_time": "2022-09-03T05:09:04.097118",
     "status": "completed"
    },
    "tags": []
   },
   "outputs": [
    {
     "data": {
      "text/html": [
       "<div>\n",
       "<style scoped>\n",
       "    .dataframe tbody tr th:only-of-type {\n",
       "        vertical-align: middle;\n",
       "    }\n",
       "\n",
       "    .dataframe tbody tr th {\n",
       "        vertical-align: top;\n",
       "    }\n",
       "\n",
       "    .dataframe thead th {\n",
       "        text-align: right;\n",
       "    }\n",
       "</style>\n",
       "<table border=\"1\" class=\"dataframe\">\n",
       "  <thead>\n",
       "    <tr style=\"text-align: right;\">\n",
       "      <th></th>\n",
       "      <th>PassengerId</th>\n",
       "      <th>Survived</th>\n",
       "    </tr>\n",
       "  </thead>\n",
       "  <tbody>\n",
       "    <tr>\n",
       "      <th>0</th>\n",
       "      <td>892</td>\n",
       "      <td>0</td>\n",
       "    </tr>\n",
       "    <tr>\n",
       "      <th>1</th>\n",
       "      <td>893</td>\n",
       "      <td>1</td>\n",
       "    </tr>\n",
       "    <tr>\n",
       "      <th>2</th>\n",
       "      <td>894</td>\n",
       "      <td>0</td>\n",
       "    </tr>\n",
       "    <tr>\n",
       "      <th>3</th>\n",
       "      <td>895</td>\n",
       "      <td>0</td>\n",
       "    </tr>\n",
       "    <tr>\n",
       "      <th>4</th>\n",
       "      <td>896</td>\n",
       "      <td>0</td>\n",
       "    </tr>\n",
       "  </tbody>\n",
       "</table>\n",
       "</div>"
      ],
      "text/plain": [
       "   PassengerId  Survived\n",
       "0          892         0\n",
       "1          893         1\n",
       "2          894         0\n",
       "3          895         0\n",
       "4          896         0"
      ]
     },
     "execution_count": 49,
     "metadata": {},
     "output_type": "execute_result"
    }
   ],
   "source": [
    "submission.head()"
   ]
  },
  {
   "cell_type": "code",
   "execution_count": 50,
   "id": "10a2c11c",
   "metadata": {
    "execution": {
     "iopub.execute_input": "2022-09-03T05:09:04.235971Z",
     "iopub.status.busy": "2022-09-03T05:09:04.235301Z",
     "iopub.status.idle": "2022-09-03T05:09:04.242613Z",
     "shell.execute_reply": "2022-09-03T05:09:04.241827Z"
    },
    "papermill": {
     "duration": 0.054488,
     "end_time": "2022-09-03T05:09:04.244883",
     "exception": false,
     "start_time": "2022-09-03T05:09:04.190395",
     "status": "completed"
    },
    "tags": []
   },
   "outputs": [],
   "source": [
    "submission.to_csv('submission.csv', index= None)"
   ]
  },
  {
   "cell_type": "code",
   "execution_count": null,
   "id": "c5dd9518",
   "metadata": {
    "papermill": {
     "duration": 0.039117,
     "end_time": "2022-09-03T05:09:04.324236",
     "exception": false,
     "start_time": "2022-09-03T05:09:04.285119",
     "status": "completed"
    },
    "tags": []
   },
   "outputs": [],
   "source": []
  }
 ],
 "metadata": {
  "kernelspec": {
   "display_name": "Python 3",
   "language": "python",
   "name": "python3"
  },
  "language_info": {
   "codemirror_mode": {
    "name": "ipython",
    "version": 3
   },
   "file_extension": ".py",
   "mimetype": "text/x-python",
   "name": "python",
   "nbconvert_exporter": "python",
   "pygments_lexer": "ipython3",
   "version": "3.7.12"
  },
  "papermill": {
   "default_parameters": {},
   "duration": 62.32638,
   "end_time": "2022-09-03T05:09:07.360587",
   "environment_variables": {},
   "exception": null,
   "input_path": "__notebook__.ipynb",
   "output_path": "__notebook__.ipynb",
   "parameters": {},
   "start_time": "2022-09-03T05:08:05.034207",
   "version": "2.3.4"
  }
 },
 "nbformat": 4,
 "nbformat_minor": 5
}
